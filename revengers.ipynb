{
 "cells": [
  {
   "cell_type": "code",
   "execution_count": 1,
   "metadata": {},
   "outputs": [],
   "source": [
    "import pandas as pd\n",
    "import numpy as np\n",
    "import seaborn as sns"
   ]
  },
  {
   "cell_type": "code",
   "execution_count": 2,
   "metadata": {},
   "outputs": [],
   "source": [
    "df = pd.read_csv('dataset/train.csv',header = 0 )\n",
    "df2 = pd.read_csv('dataset/train.csv',header = 0 )\n",
    "\n",
    "# df = pd.read_csv('C:/Users/PIYUSH KARMHE/Desktop/electric-vehicle-price-prediction/train.csv',header = 0)\n",
    "# df2 = pd.read_csv('C:/Users/PIYUSH KARMHE/Desktop/electric-vehicle-price-prediction/test.csv',header = 0)"
   ]
  },
  {
   "cell_type": "code",
   "execution_count": 3,
   "metadata": {},
   "outputs": [
    {
     "name": "stdout",
     "output_type": "stream",
     "text": [
      "<class 'pandas.core.frame.DataFrame'>\n",
      "RangeIndex: 64353 entries, 0 to 64352\n",
      "Data columns (total 18 columns):\n",
      " #   Column                                             Non-Null Count  Dtype  \n",
      "---  ------                                             --------------  -----  \n",
      " 0   ID                                                 64353 non-null  object \n",
      " 1   VIN (1-10)                                         64353 non-null  object \n",
      " 2   County                                             64349 non-null  object \n",
      " 3   City                                               64344 non-null  object \n",
      " 4   State                                              64342 non-null  object \n",
      " 5   ZIP Code                                           64347 non-null  float64\n",
      " 6   Model Year                                         64346 non-null  float64\n",
      " 7   Make                                               64349 non-null  object \n",
      " 8   Model                                              64340 non-null  object \n",
      " 9   Electric Vehicle Type                              64353 non-null  object \n",
      " 10  Clean Alternative Fuel Vehicle (CAFV) Eligibility  64353 non-null  object \n",
      " 11  Electric Range                                     64353 non-null  int64  \n",
      " 12  Base MSRP                                          64353 non-null  int64  \n",
      " 13  Legislative District                               64184 non-null  float64\n",
      " 14  DOL Vehicle ID                                     64353 non-null  int64  \n",
      " 15  Vehicle Location                                   63843 non-null  object \n",
      " 16  Electric Utility                                   63631 non-null  object \n",
      " 17  Expected Price ($1k)                               64353 non-null  object \n",
      "dtypes: float64(3), int64(3), object(12)\n",
      "memory usage: 8.8+ MB\n"
     ]
    }
   ],
   "source": [
    "df.info()"
   ]
  },
  {
   "cell_type": "code",
   "execution_count": 6,
   "metadata": {},
   "outputs": [
    {
     "data": {
      "text/html": [
       "<div>\n",
       "<style scoped>\n",
       "    .dataframe tbody tr th:only-of-type {\n",
       "        vertical-align: middle;\n",
       "    }\n",
       "\n",
       "    .dataframe tbody tr th {\n",
       "        vertical-align: top;\n",
       "    }\n",
       "\n",
       "    .dataframe thead th {\n",
       "        text-align: right;\n",
       "    }\n",
       "</style>\n",
       "<table border=\"1\" class=\"dataframe\">\n",
       "  <thead>\n",
       "    <tr style=\"text-align: right;\">\n",
       "      <th></th>\n",
       "      <th>ID</th>\n",
       "      <th>VIN (1-10)</th>\n",
       "      <th>County</th>\n",
       "      <th>City</th>\n",
       "      <th>State</th>\n",
       "      <th>ZIP Code</th>\n",
       "      <th>Model Year</th>\n",
       "      <th>Make</th>\n",
       "      <th>Model</th>\n",
       "      <th>Electric Vehicle Type</th>\n",
       "      <th>Clean Alternative Fuel Vehicle (CAFV) Eligibility</th>\n",
       "      <th>Electric Range</th>\n",
       "      <th>Base MSRP</th>\n",
       "      <th>Legislative District</th>\n",
       "      <th>DOL Vehicle ID</th>\n",
       "      <th>Vehicle Location</th>\n",
       "      <th>Electric Utility</th>\n",
       "      <th>Expected Price ($1k)</th>\n",
       "    </tr>\n",
       "  </thead>\n",
       "  <tbody>\n",
       "    <tr>\n",
       "      <th>18618</th>\n",
       "      <td>EV258</td>\n",
       "      <td>KMHE34L17G</td>\n",
       "      <td>Spokane</td>\n",
       "      <td>SPOKANE VALLEY</td>\n",
       "      <td>WA</td>\n",
       "      <td>99016.0</td>\n",
       "      <td>NaN</td>\n",
       "      <td>HYUNDAI</td>\n",
       "      <td>SONATA PLUG-IN HYBRID</td>\n",
       "      <td>Plug-in Hybrid Electric Vehicle (PHEV)</td>\n",
       "      <td>Not eligible due to low battery range</td>\n",
       "      <td>27</td>\n",
       "      <td>34600</td>\n",
       "      <td>4.0</td>\n",
       "      <td>476776030</td>\n",
       "      <td>POINT (-117.152872 47.645579)</td>\n",
       "      <td>BONNEVILLE POWER ADMINISTRATION||AVISTA CORP||...</td>\n",
       "      <td>16.365</td>\n",
       "    </tr>\n",
       "    <tr>\n",
       "      <th>34663</th>\n",
       "      <td>EV255</td>\n",
       "      <td>5YJ3E1EB6K</td>\n",
       "      <td>King</td>\n",
       "      <td>SEATTLE</td>\n",
       "      <td>WA</td>\n",
       "      <td>98115.0</td>\n",
       "      <td>NaN</td>\n",
       "      <td>TESLA</td>\n",
       "      <td>MODEL 3</td>\n",
       "      <td>Battery Electric Vehicle (BEV)</td>\n",
       "      <td>Clean Alternative Fuel Vehicle Eligible</td>\n",
       "      <td>220</td>\n",
       "      <td>0</td>\n",
       "      <td>46.0</td>\n",
       "      <td>192220731</td>\n",
       "      <td>POINT (-122.297534 47.685291)</td>\n",
       "      <td>CITY OF SEATTLE - (WA)|CITY OF TACOMA - (WA)</td>\n",
       "      <td>57</td>\n",
       "    </tr>\n",
       "    <tr>\n",
       "      <th>35578</th>\n",
       "      <td>EV250</td>\n",
       "      <td>5YJSA1CP9D</td>\n",
       "      <td>Clark</td>\n",
       "      <td>VANCOUVER</td>\n",
       "      <td>WA</td>\n",
       "      <td>98683.0</td>\n",
       "      <td>NaN</td>\n",
       "      <td>TESLA</td>\n",
       "      <td>MODEL S</td>\n",
       "      <td>Battery Electric Vehicle (BEV)</td>\n",
       "      <td>Clean Alternative Fuel Vehicle Eligible</td>\n",
       "      <td>208</td>\n",
       "      <td>69900</td>\n",
       "      <td>17.0</td>\n",
       "      <td>193870848</td>\n",
       "      <td>POINT (-122.510748 45.603727)</td>\n",
       "      <td>BONNEVILLE POWER ADMINISTRATION||PUD NO 1 OF C...</td>\n",
       "      <td>33.89</td>\n",
       "    </tr>\n",
       "    <tr>\n",
       "      <th>50803</th>\n",
       "      <td>EV252</td>\n",
       "      <td>5YJYGDEF0L</td>\n",
       "      <td>Chelan</td>\n",
       "      <td>WENATCHEE</td>\n",
       "      <td>WA</td>\n",
       "      <td>98801.0</td>\n",
       "      <td>NaN</td>\n",
       "      <td>TESLA</td>\n",
       "      <td>MODEL Y</td>\n",
       "      <td>Battery Electric Vehicle (BEV)</td>\n",
       "      <td>Clean Alternative Fuel Vehicle Eligible</td>\n",
       "      <td>291</td>\n",
       "      <td>0</td>\n",
       "      <td>12.0</td>\n",
       "      <td>127404371</td>\n",
       "      <td>POINT (-120.336499 47.425146)</td>\n",
       "      <td>PUD NO 1 OF CHELAN COUNTY</td>\n",
       "      <td>72</td>\n",
       "    </tr>\n",
       "    <tr>\n",
       "      <th>54860</th>\n",
       "      <td>EV249</td>\n",
       "      <td>WAUTPBFF2G</td>\n",
       "      <td>Snohomish</td>\n",
       "      <td>EDMONDS</td>\n",
       "      <td>WA</td>\n",
       "      <td>98026.0</td>\n",
       "      <td>NaN</td>\n",
       "      <td>AUDI</td>\n",
       "      <td>A3</td>\n",
       "      <td>Plug-in Hybrid Electric Vehicle (PHEV)</td>\n",
       "      <td>Not eligible due to low battery range</td>\n",
       "      <td>16</td>\n",
       "      <td>0</td>\n",
       "      <td>21.0</td>\n",
       "      <td>165842008</td>\n",
       "      <td>POINT (-122.333046 47.829439)</td>\n",
       "      <td>PUGET SOUND ENERGY INC</td>\n",
       "      <td>18.86</td>\n",
       "    </tr>\n",
       "    <tr>\n",
       "      <th>59409</th>\n",
       "      <td>EV256</td>\n",
       "      <td>5YJ3E1EB0M</td>\n",
       "      <td>Clark</td>\n",
       "      <td>CAMAS</td>\n",
       "      <td>WA</td>\n",
       "      <td>98607.0</td>\n",
       "      <td>NaN</td>\n",
       "      <td>TESLA</td>\n",
       "      <td>MODEL 3</td>\n",
       "      <td>Battery Electric Vehicle (BEV)</td>\n",
       "      <td>Eligibility unknown as battery range has not b...</td>\n",
       "      <td>0</td>\n",
       "      <td>0</td>\n",
       "      <td>18.0</td>\n",
       "      <td>169660508</td>\n",
       "      <td>POINT (-122.408498 45.620943)</td>\n",
       "      <td>BONNEVILLE POWER ADMINISTRATION||PUD NO 1 OF C...</td>\n",
       "      <td>64</td>\n",
       "    </tr>\n",
       "    <tr>\n",
       "      <th>62552</th>\n",
       "      <td>EV253</td>\n",
       "      <td>5YJ3E1EA2M</td>\n",
       "      <td>King</td>\n",
       "      <td>SEATTLE</td>\n",
       "      <td>WA</td>\n",
       "      <td>98144.0</td>\n",
       "      <td>NaN</td>\n",
       "      <td>TESLA</td>\n",
       "      <td>MODEL 3</td>\n",
       "      <td>Battery Electric Vehicle (BEV)</td>\n",
       "      <td>Eligibility unknown as battery range has not b...</td>\n",
       "      <td>0</td>\n",
       "      <td>0</td>\n",
       "      <td>37.0</td>\n",
       "      <td>150168735</td>\n",
       "      <td>POINT (-122.30033 47.585339)</td>\n",
       "      <td>CITY OF SEATTLE - (WA)|CITY OF TACOMA - (WA)</td>\n",
       "      <td>64</td>\n",
       "    </tr>\n",
       "  </tbody>\n",
       "</table>\n",
       "</div>"
      ],
      "text/plain": [
       "          ID  VIN (1-10)     County            City State  ZIP Code  \\\n",
       "18618  EV258  KMHE34L17G    Spokane  SPOKANE VALLEY    WA   99016.0   \n",
       "34663  EV255  5YJ3E1EB6K       King         SEATTLE    WA   98115.0   \n",
       "35578  EV250  5YJSA1CP9D      Clark       VANCOUVER    WA   98683.0   \n",
       "50803  EV252  5YJYGDEF0L     Chelan       WENATCHEE    WA   98801.0   \n",
       "54860  EV249  WAUTPBFF2G  Snohomish         EDMONDS    WA   98026.0   \n",
       "59409  EV256  5YJ3E1EB0M      Clark           CAMAS    WA   98607.0   \n",
       "62552  EV253  5YJ3E1EA2M       King         SEATTLE    WA   98144.0   \n",
       "\n",
       "       Model Year     Make                  Model  \\\n",
       "18618         NaN  HYUNDAI  SONATA PLUG-IN HYBRID   \n",
       "34663         NaN    TESLA                MODEL 3   \n",
       "35578         NaN    TESLA                MODEL S   \n",
       "50803         NaN    TESLA                MODEL Y   \n",
       "54860         NaN     AUDI                     A3   \n",
       "59409         NaN    TESLA                MODEL 3   \n",
       "62552         NaN    TESLA                MODEL 3   \n",
       "\n",
       "                        Electric Vehicle Type  \\\n",
       "18618  Plug-in Hybrid Electric Vehicle (PHEV)   \n",
       "34663          Battery Electric Vehicle (BEV)   \n",
       "35578          Battery Electric Vehicle (BEV)   \n",
       "50803          Battery Electric Vehicle (BEV)   \n",
       "54860  Plug-in Hybrid Electric Vehicle (PHEV)   \n",
       "59409          Battery Electric Vehicle (BEV)   \n",
       "62552          Battery Electric Vehicle (BEV)   \n",
       "\n",
       "       Clean Alternative Fuel Vehicle (CAFV) Eligibility  Electric Range  \\\n",
       "18618              Not eligible due to low battery range              27   \n",
       "34663            Clean Alternative Fuel Vehicle Eligible             220   \n",
       "35578            Clean Alternative Fuel Vehicle Eligible             208   \n",
       "50803            Clean Alternative Fuel Vehicle Eligible             291   \n",
       "54860              Not eligible due to low battery range              16   \n",
       "59409  Eligibility unknown as battery range has not b...               0   \n",
       "62552  Eligibility unknown as battery range has not b...               0   \n",
       "\n",
       "       Base MSRP  Legislative District  DOL Vehicle ID  \\\n",
       "18618      34600                   4.0       476776030   \n",
       "34663          0                  46.0       192220731   \n",
       "35578      69900                  17.0       193870848   \n",
       "50803          0                  12.0       127404371   \n",
       "54860          0                  21.0       165842008   \n",
       "59409          0                  18.0       169660508   \n",
       "62552          0                  37.0       150168735   \n",
       "\n",
       "                    Vehicle Location  \\\n",
       "18618  POINT (-117.152872 47.645579)   \n",
       "34663  POINT (-122.297534 47.685291)   \n",
       "35578  POINT (-122.510748 45.603727)   \n",
       "50803  POINT (-120.336499 47.425146)   \n",
       "54860  POINT (-122.333046 47.829439)   \n",
       "59409  POINT (-122.408498 45.620943)   \n",
       "62552   POINT (-122.30033 47.585339)   \n",
       "\n",
       "                                        Electric Utility Expected Price ($1k)  \n",
       "18618  BONNEVILLE POWER ADMINISTRATION||AVISTA CORP||...               16.365  \n",
       "34663       CITY OF SEATTLE - (WA)|CITY OF TACOMA - (WA)                   57  \n",
       "35578  BONNEVILLE POWER ADMINISTRATION||PUD NO 1 OF C...                33.89  \n",
       "50803                          PUD NO 1 OF CHELAN COUNTY                   72  \n",
       "54860                             PUGET SOUND ENERGY INC                18.86  \n",
       "59409  BONNEVILLE POWER ADMINISTRATION||PUD NO 1 OF C...                   64  \n",
       "62552       CITY OF SEATTLE - (WA)|CITY OF TACOMA - (WA)                   64  "
      ]
     },
     "execution_count": 6,
     "metadata": {},
     "output_type": "execute_result"
    }
   ],
   "source": [
    "Model_year = {'P': 1993, 'W': 1998, 'X': 1999, 'Y': 2000, '2': 2002, '8': 2008, 'A': 2010, 'B': 2011, 'C': 2012, 'D': 2013, 'E': 2014, 'F': 2015, 'G': 2016, 'H': 2017, 'I': 2018, 'J': 2019, 'K': 2020, 'L': 2021, 'M': 2022}\n",
    "df[(df['Model Year'].isnull())]"
   ]
  },
  {
   "cell_type": "code",
   "execution_count": 7,
   "metadata": {},
   "outputs": [],
   "source": [
    "l=df[(df['Model Year'].isnull())].index"
   ]
  },
  {
   "cell_type": "code",
   "execution_count": 8,
   "metadata": {},
   "outputs": [],
   "source": [
    "j = [df.iloc[i]['VIN (1-10)'][-1] for i in l]"
   ]
  },
  {
   "cell_type": "code",
   "execution_count": 9,
   "metadata": {},
   "outputs": [
    {
     "name": "stderr",
     "output_type": "stream",
     "text": [
      "C:\\Users\\2021\\.conda\\envs\\electricvehiclepriceprediction\\lib\\site-packages\\pandas\\core\\indexing.py:1732: SettingWithCopyWarning: \n",
      "A value is trying to be set on a copy of a slice from a DataFrame\n",
      "\n",
      "See the caveats in the documentation: https://pandas.pydata.org/pandas-docs/stable/user_guide/indexing.html#returning-a-view-versus-a-copy\n",
      "  self._setitem_single_block(indexer, value, name)\n"
     ]
    }
   ],
   "source": [
    "k=0\n",
    "for i in l:\n",
    "    df['Model Year'].iloc[i] = Model_year[j[k]]\n",
    "    k+=1"
   ]
  },
  {
   "cell_type": "code",
   "execution_count": 10,
   "metadata": {},
   "outputs": [
    {
     "data": {
      "text/plain": [
       "Int64Index([], dtype='int64')"
      ]
     },
     "execution_count": 10,
     "metadata": {},
     "output_type": "execute_result"
    }
   ],
   "source": [
    "df[(df['Model Year'].isnull())].index"
   ]
  },
  {
   "cell_type": "code",
   "execution_count": 11,
   "metadata": {},
   "outputs": [],
   "source": [
    "zip1 = {'POINT (-122.374864 47.548552)': 98126, 'POINT (-122.212105 47.792368)': 98021,'POINT (-122.029605 47.939428)': 98290, 'POINT (-122.534497 47.643688)': 98110, 'POINT (-117.166513 32.746633)': 92103, np.nan:np.nan}\n",
    "zip2 = {'SEATTLE': 98107, 'SPOKANE VALLEY': 99037, 'nan':''}"
   ]
  },
  {
   "cell_type": "code",
   "execution_count": 12,
   "metadata": {},
   "outputs": [],
   "source": [
    "l = df[(df['ZIP Code'].isnull())].index"
   ]
  },
  {
   "cell_type": "code",
   "execution_count": 13,
   "metadata": {},
   "outputs": [],
   "source": [
    "j = [df.iloc[i]['Vehicle Location'] for i in l]"
   ]
  },
  {
   "cell_type": "code",
   "execution_count": 14,
   "metadata": {},
   "outputs": [],
   "source": [
    "k=0\n",
    "for i in l:\n",
    "    df['ZIP Code'].iloc[i] = zip1[j[k]]\n",
    "    k+=1"
   ]
  },
  {
   "cell_type": "code",
   "execution_count": 15,
   "metadata": {},
   "outputs": [],
   "source": [
    "l = df[(df['ZIP Code'].isnull())].index"
   ]
  },
  {
   "cell_type": "code",
   "execution_count": 16,
   "metadata": {},
   "outputs": [],
   "source": [
    "j = [df.iloc[i]['City'] for i in l]"
   ]
  },
  {
   "cell_type": "code",
   "execution_count": 17,
   "metadata": {},
   "outputs": [],
   "source": [
    "k=0\n",
    "for i in l:\n",
    "    df['ZIP Code'].iloc[i] = zip2[j[k]]\n",
    "    k+=1"
   ]
  },
  {
   "cell_type": "code",
   "execution_count": 18,
   "metadata": {},
   "outputs": [
    {
     "data": {
      "text/plain": [
       "99037.0"
      ]
     },
     "execution_count": 18,
     "metadata": {},
     "output_type": "execute_result"
    }
   ],
   "source": [
    "df['ZIP Code'].iloc[l[0]]"
   ]
  },
  {
   "cell_type": "code",
   "execution_count": 19,
   "metadata": {},
   "outputs": [],
   "source": [
    "l = df2[(df2['ZIP Code'].isnull())].index"
   ]
  },
  {
   "cell_type": "code",
   "execution_count": 20,
   "metadata": {},
   "outputs": [],
   "source": [
    "j = [df2.iloc[i]['Vehicle Location'] for i in l]"
   ]
  },
  {
   "cell_type": "code",
   "execution_count": 21,
   "metadata": {},
   "outputs": [],
   "source": [
    "k=0\n",
    "for i in l:\n",
    "    try:\n",
    "        df2['ZIP Code'].iloc[i] = zip1[j[k]]\n",
    "    except:\n",
    "        pass\n",
    "    k+=1"
   ]
  },
  {
   "cell_type": "code",
   "execution_count": 22,
   "metadata": {},
   "outputs": [],
   "source": [
    "l=df2[(df2['Model Year'].isnull())].index"
   ]
  },
  {
   "cell_type": "code",
   "execution_count": 23,
   "metadata": {},
   "outputs": [],
   "source": [
    "j = [df2.iloc[i]['VIN (1-10)'][-1] for i in l]"
   ]
  },
  {
   "cell_type": "code",
   "execution_count": 24,
   "metadata": {},
   "outputs": [],
   "source": [
    "k=0\n",
    "for i in l:\n",
    "    df2['Model Year'].iloc[i] = Model_year[j[k]]\n",
    "    k+=1"
   ]
  },
  {
   "cell_type": "code",
   "execution_count": 25,
   "metadata": {},
   "outputs": [],
   "source": [
    "Make = {'LEAF': 'NISSAN', 'MODEL 3': 'TESLA', 'NIRO': 'KIA', 'SORENTO': 'KIA'}"
   ]
  },
  {
   "cell_type": "code",
   "execution_count": 26,
   "metadata": {},
   "outputs": [],
   "source": [
    "l = df[(df['Make'].isnull())].index"
   ]
  },
  {
   "cell_type": "code",
   "execution_count": 27,
   "metadata": {},
   "outputs": [],
   "source": [
    "j = [df.iloc[i]['Model'] for i in l]"
   ]
  },
  {
   "cell_type": "code",
   "execution_count": 28,
   "metadata": {},
   "outputs": [
    {
     "data": {
      "text/plain": [
       "['LEAF', 'MODEL 3', 'NIRO', 'SORENTO']"
      ]
     },
     "execution_count": 28,
     "metadata": {},
     "output_type": "execute_result"
    }
   ],
   "source": [
    "j"
   ]
  },
  {
   "cell_type": "code",
   "execution_count": 29,
   "metadata": {},
   "outputs": [],
   "source": [
    "k=0\n",
    "for i in l:\n",
    "    df['Make'].iloc[i] = Make[j[k]]\n",
    "    k+=1"
   ]
  },
  {
   "cell_type": "code",
   "execution_count": 30,
   "metadata": {},
   "outputs": [],
   "source": [
    "l = df2[(df2['Make'].isnull())].index"
   ]
  },
  {
   "cell_type": "code",
   "execution_count": 31,
   "metadata": {},
   "outputs": [],
   "source": [
    "j = [df2.iloc[i]['Model'] for i in l]"
   ]
  },
  {
   "cell_type": "code",
   "execution_count": 32,
   "metadata": {},
   "outputs": [
    {
     "data": {
      "text/plain": [
       "['LEAF', 'MODEL 3', 'NIRO', 'SORENTO']"
      ]
     },
     "execution_count": 32,
     "metadata": {},
     "output_type": "execute_result"
    }
   ],
   "source": [
    "j"
   ]
  },
  {
   "cell_type": "code",
   "execution_count": 33,
   "metadata": {},
   "outputs": [],
   "source": [
    "k=0\n",
    "for i in l:\n",
    "    df2['Make'].iloc[i] = Make[j[k]]\n",
    "    k+=1"
   ]
  },
  {
   "cell_type": "code",
   "execution_count": 34,
   "metadata": {},
   "outputs": [],
   "source": [
    "Model = {'1FMC': 'ESCAPE'}"
   ]
  },
  {
   "cell_type": "code",
   "execution_count": 35,
   "metadata": {},
   "outputs": [],
   "source": [
    "l = df[(df['Model'].isnull())].index"
   ]
  },
  {
   "cell_type": "code",
   "execution_count": 36,
   "metadata": {},
   "outputs": [
    {
     "data": {
      "text/plain": [
       "'1FMCU0LZ4N'"
      ]
     },
     "execution_count": 36,
     "metadata": {},
     "output_type": "execute_result"
    }
   ],
   "source": [
    "df.iloc[l[0]]['VIN (1-10)']"
   ]
  },
  {
   "cell_type": "code",
   "execution_count": 37,
   "metadata": {},
   "outputs": [
    {
     "data": {
      "text/plain": [
       "'1FMC'"
      ]
     },
     "execution_count": 37,
     "metadata": {},
     "output_type": "execute_result"
    }
   ],
   "source": [
    "df.iloc[l[0]]['VIN (1-10)'][:4]"
   ]
  },
  {
   "cell_type": "code",
   "execution_count": 38,
   "metadata": {},
   "outputs": [],
   "source": [
    "j = [df.iloc[i]['VIN (1-10)'][:4] for i in l]"
   ]
  },
  {
   "cell_type": "code",
   "execution_count": 39,
   "metadata": {},
   "outputs": [],
   "source": [
    "k=0\n",
    "for i in l:\n",
    "    df['Model'].iloc[i] = Model[j[k]]\n",
    "    k+=1"
   ]
  },
  {
   "cell_type": "code",
   "execution_count": 40,
   "metadata": {},
   "outputs": [],
   "source": [
    "l = df2[(df2['Model'].isnull())].index"
   ]
  },
  {
   "cell_type": "code",
   "execution_count": 41,
   "metadata": {},
   "outputs": [],
   "source": [
    "j = [df2.iloc[i]['VIN (1-10)'][:4] for i in l]"
   ]
  },
  {
   "cell_type": "code",
   "execution_count": 42,
   "metadata": {},
   "outputs": [],
   "source": [
    "k=0\n",
    "for i in l:\n",
    "    df2['Model'].iloc[i] = Model[j[k]]\n",
    "    k+=1"
   ]
  },
  {
   "cell_type": "code",
   "execution_count": 43,
   "metadata": {},
   "outputs": [],
   "source": [
    "state = {'EDMONDS': 'WA', 'CHUGIAK': 'AK','LACEY': 'WA','BOTHELL': 'WA','SEATTLE': 'WA', 'BAINBRIDGE ISLAND': 'WA', 'YAKIMA': 'WA', 'VASHON': 'WA', 'BREMERTON': 'WA', 'SAN DIEGO': 'CA'}"
   ]
  },
  {
   "cell_type": "code",
   "execution_count": 44,
   "metadata": {},
   "outputs": [],
   "source": [
    "l = df2[(df2['State'].isnull())].index"
   ]
  },
  {
   "cell_type": "code",
   "execution_count": 45,
   "metadata": {},
   "outputs": [],
   "source": [
    "j = [df2.iloc[i]['City'] for i in l]"
   ]
  },
  {
   "cell_type": "code",
   "execution_count": 46,
   "metadata": {},
   "outputs": [],
   "source": [
    "k=0\n",
    "for i in l:\n",
    "    df2['State'].iloc[i] = state[j[k]]\n",
    "    k+=1"
   ]
  },
  {
   "cell_type": "code",
   "execution_count": 47,
   "metadata": {},
   "outputs": [],
   "source": [
    "l = df[(df['State'].isnull())].index"
   ]
  },
  {
   "cell_type": "code",
   "execution_count": 48,
   "metadata": {},
   "outputs": [],
   "source": [
    "j = [df.iloc[i]['City'] for i in l]"
   ]
  },
  {
   "cell_type": "code",
   "execution_count": 49,
   "metadata": {},
   "outputs": [],
   "source": [
    "k=0\n",
    "for i in l:\n",
    "    df['State'].iloc[i] = state[j[k]]\n",
    "    k+=1"
   ]
  },
  {
   "cell_type": "code",
   "execution_count": 50,
   "metadata": {},
   "outputs": [],
   "source": [
    "city_train = {98052: 'REDMOND', 98502: 'OLYMPIA', 98346: 'KINGSTON', 98312: 'BREMERTON', 98513: 'OLYMPIA', 98908: 'YAKIMA', 98008: 'BELLEVUE'}"
   ]
  },
  {
   "cell_type": "code",
   "execution_count": 51,
   "metadata": {},
   "outputs": [],
   "source": [
    "l = df[(df['City'].isnull())].index"
   ]
  },
  {
   "cell_type": "code",
   "execution_count": 52,
   "metadata": {},
   "outputs": [],
   "source": [
    "j = [df.iloc[i]['ZIP Code'] for i in l]"
   ]
  },
  {
   "cell_type": "code",
   "execution_count": 53,
   "metadata": {},
   "outputs": [],
   "source": [
    "k=0\n",
    "for i in l:\n",
    "    df['City'].iloc[i] = city_train[j[k]]\n",
    "    k+=1"
   ]
  },
  {
   "cell_type": "code",
   "execution_count": 54,
   "metadata": {},
   "outputs": [],
   "source": [
    "city_test = {98370: 'POULSBO', 98107: 'SEATTLE', 98019: 'DUVALL'}"
   ]
  },
  {
   "cell_type": "code",
   "execution_count": 55,
   "metadata": {},
   "outputs": [],
   "source": [
    "# l = df2[(df2['City'].isnull())].index\n",
    "l = df2[(df2['City'].isnull())].index"
   ]
  },
  {
   "cell_type": "code",
   "execution_count": 56,
   "metadata": {},
   "outputs": [],
   "source": [
    "# j = [df2.iloc[i]['ZIP Code'] for i in l]\n",
    "j = [df2.iloc[i]['ZIP Code'] for i in l]"
   ]
  },
  {
   "cell_type": "code",
   "execution_count": 57,
   "metadata": {},
   "outputs": [],
   "source": [
    "# k=0\n",
    "# for i in l:\n",
    "#     df2['City'].iloc[i] = city_test[j[k]]\n",
    "#     k+=1\n",
    "k=0\n",
    "for i in l:\n",
    "    df2['City'].iloc[i] = city_test.get(j[k], np.nan)  # Assign NaN if ZIP not found\n",
    "    k+=1"
   ]
  },
  {
   "cell_type": "code",
   "execution_count": 58,
   "metadata": {},
   "outputs": [],
   "source": [
    "county_train = {'APO': 'Houdson', 'FPO': 'SouthWest'}"
   ]
  },
  {
   "cell_type": "code",
   "execution_count": 59,
   "metadata": {},
   "outputs": [],
   "source": [
    "l = df[(df['County'].isnull())].index"
   ]
  },
  {
   "cell_type": "code",
   "execution_count": 60,
   "metadata": {},
   "outputs": [],
   "source": [
    "j = [df.iloc[i]['City'] for i in l]"
   ]
  },
  {
   "cell_type": "code",
   "execution_count": 61,
   "metadata": {},
   "outputs": [],
   "source": [
    "k=0\n",
    "for i in l:\n",
    "    df['County'].iloc[i] = county_train[j[k]]\n",
    "    k+=1"
   ]
  },
  {
   "cell_type": "code",
   "execution_count": 62,
   "metadata": {},
   "outputs": [],
   "source": [
    "county_test = {9753: 'Hudson', 96319: 'SouthWest', 96530: 'SouthWest', 96620: 'SouthWest'}"
   ]
  },
  {
   "cell_type": "code",
   "execution_count": 63,
   "metadata": {},
   "outputs": [],
   "source": [
    "l = df2[(df2['County'].isnull())].index"
   ]
  },
  {
   "cell_type": "code",
   "execution_count": 64,
   "metadata": {},
   "outputs": [],
   "source": [
    "j = [df2.iloc[i]['ZIP Code'] for i in l]"
   ]
  },
  {
   "cell_type": "code",
   "execution_count": 65,
   "metadata": {},
   "outputs": [],
   "source": [
    "k=0\n",
    "for i in l:\n",
    "    if j[k] in county_test:\n",
    "        df2['County'].iloc[i] = county_test[j[k]]\n",
    "    else:\n",
    "        df2['County'].iloc[i] = np.nan  # Assign NaN if ZIP not found\n",
    "    k+=1\n",
    "\n",
    "# k=0\n",
    "# for i in l:\n",
    "#     df2['County'].iloc[i] = county_test[j[k]]\n",
    "#     k+=1"
   ]
  },
  {
   "cell_type": "code",
   "execution_count": 66,
   "metadata": {},
   "outputs": [],
   "source": [
    "l=df[(df['Expected Price ($1k)']=='N/')].index"
   ]
  },
  {
   "cell_type": "code",
   "execution_count": 67,
   "metadata": {},
   "outputs": [],
   "source": [
    "for i in l:\n",
    "    df=df.drop([i],axis=0)"
   ]
  },
  {
   "cell_type": "code",
   "execution_count": 68,
   "metadata": {},
   "outputs": [
    {
     "name": "stdout",
     "output_type": "stream",
     "text": [
      "<class 'pandas.core.frame.DataFrame'>\n",
      "Int64Index: 64340 entries, 0 to 64352\n",
      "Data columns (total 18 columns):\n",
      " #   Column                                             Non-Null Count  Dtype  \n",
      "---  ------                                             --------------  -----  \n",
      " 0   ID                                                 64340 non-null  object \n",
      " 1   VIN (1-10)                                         64340 non-null  object \n",
      " 2   County                                             64340 non-null  object \n",
      " 3   City                                               64340 non-null  object \n",
      " 4   State                                              64340 non-null  object \n",
      " 5   ZIP Code                                           64340 non-null  float64\n",
      " 6   Model Year                                         64340 non-null  float64\n",
      " 7   Make                                               64340 non-null  object \n",
      " 8   Model                                              64340 non-null  object \n",
      " 9   Electric Vehicle Type                              64340 non-null  object \n",
      " 10  Clean Alternative Fuel Vehicle (CAFV) Eligibility  64340 non-null  object \n",
      " 11  Electric Range                                     64340 non-null  int64  \n",
      " 12  Base MSRP                                          64340 non-null  int64  \n",
      " 13  Legislative District                               64171 non-null  float64\n",
      " 14  DOL Vehicle ID                                     64340 non-null  int64  \n",
      " 15  Vehicle Location                                   63830 non-null  object \n",
      " 16  Electric Utility                                   63618 non-null  object \n",
      " 17  Expected Price ($1k)                               64340 non-null  object \n",
      "dtypes: float64(3), int64(3), object(12)\n",
      "memory usage: 9.3+ MB\n"
     ]
    }
   ],
   "source": [
    "df.info()"
   ]
  },
  {
   "cell_type": "code",
   "execution_count": 69,
   "metadata": {},
   "outputs": [
    {
     "name": "stdout",
     "output_type": "stream",
     "text": [
      "<class 'pandas.core.frame.DataFrame'>\n",
      "RangeIndex: 64353 entries, 0 to 64352\n",
      "Data columns (total 18 columns):\n",
      " #   Column                                             Non-Null Count  Dtype  \n",
      "---  ------                                             --------------  -----  \n",
      " 0   ID                                                 64353 non-null  object \n",
      " 1   VIN (1-10)                                         64353 non-null  object \n",
      " 2   County                                             64349 non-null  object \n",
      " 3   City                                               64344 non-null  object \n",
      " 4   State                                              64353 non-null  object \n",
      " 5   ZIP Code                                           64351 non-null  float64\n",
      " 6   Model Year                                         64353 non-null  float64\n",
      " 7   Make                                               64353 non-null  object \n",
      " 8   Model                                              64353 non-null  object \n",
      " 9   Electric Vehicle Type                              64353 non-null  object \n",
      " 10  Clean Alternative Fuel Vehicle (CAFV) Eligibility  64353 non-null  object \n",
      " 11  Electric Range                                     64353 non-null  int64  \n",
      " 12  Base MSRP                                          64353 non-null  int64  \n",
      " 13  Legislative District                               64184 non-null  float64\n",
      " 14  DOL Vehicle ID                                     64353 non-null  int64  \n",
      " 15  Vehicle Location                                   63843 non-null  object \n",
      " 16  Electric Utility                                   63631 non-null  object \n",
      " 17  Expected Price ($1k)                               64353 non-null  object \n",
      "dtypes: float64(3), int64(3), object(12)\n",
      "memory usage: 8.8+ MB\n"
     ]
    }
   ],
   "source": [
    "df2.info()"
   ]
  },
  {
   "cell_type": "code",
   "execution_count": 70,
   "metadata": {},
   "outputs": [],
   "source": [
    "df = df.drop(['Electric Utility', 'Legislative District', 'Vehicle Location', 'DOL Vehicle ID', 'VIN (1-10)', 'ID'], axis = 1)"
   ]
  },
  {
   "cell_type": "code",
   "execution_count": 71,
   "metadata": {},
   "outputs": [
    {
     "data": {
      "text/html": [
       "<div>\n",
       "<style scoped>\n",
       "    .dataframe tbody tr th:only-of-type {\n",
       "        vertical-align: middle;\n",
       "    }\n",
       "\n",
       "    .dataframe tbody tr th {\n",
       "        vertical-align: top;\n",
       "    }\n",
       "\n",
       "    .dataframe thead th {\n",
       "        text-align: right;\n",
       "    }\n",
       "</style>\n",
       "<table border=\"1\" class=\"dataframe\">\n",
       "  <thead>\n",
       "    <tr style=\"text-align: right;\">\n",
       "      <th></th>\n",
       "      <th>County</th>\n",
       "      <th>City</th>\n",
       "      <th>State</th>\n",
       "      <th>ZIP Code</th>\n",
       "      <th>Model Year</th>\n",
       "      <th>Make</th>\n",
       "      <th>Model</th>\n",
       "      <th>Electric Vehicle Type</th>\n",
       "      <th>Clean Alternative Fuel Vehicle (CAFV) Eligibility</th>\n",
       "      <th>Electric Range</th>\n",
       "      <th>Base MSRP</th>\n",
       "      <th>Expected Price ($1k)</th>\n",
       "    </tr>\n",
       "  </thead>\n",
       "  <tbody>\n",
       "    <tr>\n",
       "      <th>0</th>\n",
       "      <td>Snohomish</td>\n",
       "      <td>LYNNWOOD</td>\n",
       "      <td>WA</td>\n",
       "      <td>98037.0</td>\n",
       "      <td>2020.0</td>\n",
       "      <td>TESLA</td>\n",
       "      <td>MODEL 3</td>\n",
       "      <td>Battery Electric Vehicle (BEV)</td>\n",
       "      <td>Clean Alternative Fuel Vehicle Eligible</td>\n",
       "      <td>308</td>\n",
       "      <td>0</td>\n",
       "      <td>50</td>\n",
       "    </tr>\n",
       "    <tr>\n",
       "      <th>1</th>\n",
       "      <td>Skagit</td>\n",
       "      <td>BELLINGHAM</td>\n",
       "      <td>WA</td>\n",
       "      <td>98229.0</td>\n",
       "      <td>2011.0</td>\n",
       "      <td>NISSAN</td>\n",
       "      <td>LEAF</td>\n",
       "      <td>Battery Electric Vehicle (BEV)</td>\n",
       "      <td>Clean Alternative Fuel Vehicle Eligible</td>\n",
       "      <td>73</td>\n",
       "      <td>0</td>\n",
       "      <td>15</td>\n",
       "    </tr>\n",
       "    <tr>\n",
       "      <th>2</th>\n",
       "      <td>Pierce</td>\n",
       "      <td>TACOMA</td>\n",
       "      <td>WA</td>\n",
       "      <td>98422.0</td>\n",
       "      <td>2015.0</td>\n",
       "      <td>BMW</td>\n",
       "      <td>I3</td>\n",
       "      <td>Battery Electric Vehicle (BEV)</td>\n",
       "      <td>Clean Alternative Fuel Vehicle Eligible</td>\n",
       "      <td>81</td>\n",
       "      <td>0</td>\n",
       "      <td>18</td>\n",
       "    </tr>\n",
       "    <tr>\n",
       "      <th>3</th>\n",
       "      <td>King</td>\n",
       "      <td>REDMOND</td>\n",
       "      <td>WA</td>\n",
       "      <td>98053.0</td>\n",
       "      <td>2013.0</td>\n",
       "      <td>CHEVROLET</td>\n",
       "      <td>VOLT</td>\n",
       "      <td>Plug-in Hybrid Electric Vehicle (PHEV)</td>\n",
       "      <td>Clean Alternative Fuel Vehicle Eligible</td>\n",
       "      <td>38</td>\n",
       "      <td>0</td>\n",
       "      <td>33.9</td>\n",
       "    </tr>\n",
       "    <tr>\n",
       "      <th>4</th>\n",
       "      <td>Pierce</td>\n",
       "      <td>PUYALLUP</td>\n",
       "      <td>WA</td>\n",
       "      <td>98375.0</td>\n",
       "      <td>2019.0</td>\n",
       "      <td>CHEVROLET</td>\n",
       "      <td>BOLT EV</td>\n",
       "      <td>Battery Electric Vehicle (BEV)</td>\n",
       "      <td>Clean Alternative Fuel Vehicle Eligible</td>\n",
       "      <td>238</td>\n",
       "      <td>0</td>\n",
       "      <td>41.78</td>\n",
       "    </tr>\n",
       "  </tbody>\n",
       "</table>\n",
       "</div>"
      ],
      "text/plain": [
       "      County        City State  ZIP Code  Model Year       Make    Model  \\\n",
       "0  Snohomish    LYNNWOOD    WA   98037.0      2020.0      TESLA  MODEL 3   \n",
       "1     Skagit  BELLINGHAM    WA   98229.0      2011.0     NISSAN     LEAF   \n",
       "2     Pierce      TACOMA    WA   98422.0      2015.0        BMW       I3   \n",
       "3       King     REDMOND    WA   98053.0      2013.0  CHEVROLET     VOLT   \n",
       "4     Pierce    PUYALLUP    WA   98375.0      2019.0  CHEVROLET  BOLT EV   \n",
       "\n",
       "                    Electric Vehicle Type  \\\n",
       "0          Battery Electric Vehicle (BEV)   \n",
       "1          Battery Electric Vehicle (BEV)   \n",
       "2          Battery Electric Vehicle (BEV)   \n",
       "3  Plug-in Hybrid Electric Vehicle (PHEV)   \n",
       "4          Battery Electric Vehicle (BEV)   \n",
       "\n",
       "  Clean Alternative Fuel Vehicle (CAFV) Eligibility  Electric Range  \\\n",
       "0           Clean Alternative Fuel Vehicle Eligible             308   \n",
       "1           Clean Alternative Fuel Vehicle Eligible              73   \n",
       "2           Clean Alternative Fuel Vehicle Eligible              81   \n",
       "3           Clean Alternative Fuel Vehicle Eligible              38   \n",
       "4           Clean Alternative Fuel Vehicle Eligible             238   \n",
       "\n",
       "   Base MSRP Expected Price ($1k)  \n",
       "0          0                   50  \n",
       "1          0                   15  \n",
       "2          0                   18  \n",
       "3          0                 33.9  \n",
       "4          0                41.78  "
      ]
     },
     "execution_count": 71,
     "metadata": {},
     "output_type": "execute_result"
    }
   ],
   "source": [
    "df.head()"
   ]
  },
  {
   "cell_type": "code",
   "execution_count": 72,
   "metadata": {},
   "outputs": [],
   "source": [
    "id=df2['ID']\n",
    "df2 = df2.drop(['Electric Utility', 'Legislative District', 'Vehicle Location', 'DOL Vehicle ID', 'VIN (1-10)', 'ID'], axis = 1)"
   ]
  },
  {
   "cell_type": "code",
   "execution_count": 73,
   "metadata": {},
   "outputs": [
    {
     "data": {
      "text/html": [
       "<div>\n",
       "<style scoped>\n",
       "    .dataframe tbody tr th:only-of-type {\n",
       "        vertical-align: middle;\n",
       "    }\n",
       "\n",
       "    .dataframe tbody tr th {\n",
       "        vertical-align: top;\n",
       "    }\n",
       "\n",
       "    .dataframe thead th {\n",
       "        text-align: right;\n",
       "    }\n",
       "</style>\n",
       "<table border=\"1\" class=\"dataframe\">\n",
       "  <thead>\n",
       "    <tr style=\"text-align: right;\">\n",
       "      <th></th>\n",
       "      <th>County</th>\n",
       "      <th>City</th>\n",
       "      <th>State</th>\n",
       "      <th>ZIP Code</th>\n",
       "      <th>Model Year</th>\n",
       "      <th>Make</th>\n",
       "      <th>Model</th>\n",
       "      <th>Electric Vehicle Type</th>\n",
       "      <th>Clean Alternative Fuel Vehicle (CAFV) Eligibility</th>\n",
       "      <th>Electric Range</th>\n",
       "      <th>Base MSRP</th>\n",
       "      <th>Expected Price ($1k)</th>\n",
       "    </tr>\n",
       "  </thead>\n",
       "  <tbody>\n",
       "    <tr>\n",
       "      <th>0</th>\n",
       "      <td>Snohomish</td>\n",
       "      <td>LYNNWOOD</td>\n",
       "      <td>WA</td>\n",
       "      <td>98037.0</td>\n",
       "      <td>2020.0</td>\n",
       "      <td>TESLA</td>\n",
       "      <td>MODEL 3</td>\n",
       "      <td>Battery Electric Vehicle (BEV)</td>\n",
       "      <td>Clean Alternative Fuel Vehicle Eligible</td>\n",
       "      <td>308</td>\n",
       "      <td>0</td>\n",
       "      <td>50</td>\n",
       "    </tr>\n",
       "    <tr>\n",
       "      <th>1</th>\n",
       "      <td>Skagit</td>\n",
       "      <td>BELLINGHAM</td>\n",
       "      <td>WA</td>\n",
       "      <td>98229.0</td>\n",
       "      <td>2011.0</td>\n",
       "      <td>NISSAN</td>\n",
       "      <td>LEAF</td>\n",
       "      <td>Battery Electric Vehicle (BEV)</td>\n",
       "      <td>Clean Alternative Fuel Vehicle Eligible</td>\n",
       "      <td>73</td>\n",
       "      <td>0</td>\n",
       "      <td>15</td>\n",
       "    </tr>\n",
       "    <tr>\n",
       "      <th>2</th>\n",
       "      <td>Pierce</td>\n",
       "      <td>TACOMA</td>\n",
       "      <td>WA</td>\n",
       "      <td>98422.0</td>\n",
       "      <td>2015.0</td>\n",
       "      <td>BMW</td>\n",
       "      <td>I3</td>\n",
       "      <td>Battery Electric Vehicle (BEV)</td>\n",
       "      <td>Clean Alternative Fuel Vehicle Eligible</td>\n",
       "      <td>81</td>\n",
       "      <td>0</td>\n",
       "      <td>18</td>\n",
       "    </tr>\n",
       "    <tr>\n",
       "      <th>3</th>\n",
       "      <td>King</td>\n",
       "      <td>REDMOND</td>\n",
       "      <td>WA</td>\n",
       "      <td>98053.0</td>\n",
       "      <td>2013.0</td>\n",
       "      <td>CHEVROLET</td>\n",
       "      <td>VOLT</td>\n",
       "      <td>Plug-in Hybrid Electric Vehicle (PHEV)</td>\n",
       "      <td>Clean Alternative Fuel Vehicle Eligible</td>\n",
       "      <td>38</td>\n",
       "      <td>0</td>\n",
       "      <td>33.9</td>\n",
       "    </tr>\n",
       "    <tr>\n",
       "      <th>4</th>\n",
       "      <td>Pierce</td>\n",
       "      <td>PUYALLUP</td>\n",
       "      <td>WA</td>\n",
       "      <td>98375.0</td>\n",
       "      <td>2019.0</td>\n",
       "      <td>CHEVROLET</td>\n",
       "      <td>BOLT EV</td>\n",
       "      <td>Battery Electric Vehicle (BEV)</td>\n",
       "      <td>Clean Alternative Fuel Vehicle Eligible</td>\n",
       "      <td>238</td>\n",
       "      <td>0</td>\n",
       "      <td>41.78</td>\n",
       "    </tr>\n",
       "  </tbody>\n",
       "</table>\n",
       "</div>"
      ],
      "text/plain": [
       "      County        City State  ZIP Code  Model Year       Make    Model  \\\n",
       "0  Snohomish    LYNNWOOD    WA   98037.0      2020.0      TESLA  MODEL 3   \n",
       "1     Skagit  BELLINGHAM    WA   98229.0      2011.0     NISSAN     LEAF   \n",
       "2     Pierce      TACOMA    WA   98422.0      2015.0        BMW       I3   \n",
       "3       King     REDMOND    WA   98053.0      2013.0  CHEVROLET     VOLT   \n",
       "4     Pierce    PUYALLUP    WA   98375.0      2019.0  CHEVROLET  BOLT EV   \n",
       "\n",
       "                    Electric Vehicle Type  \\\n",
       "0          Battery Electric Vehicle (BEV)   \n",
       "1          Battery Electric Vehicle (BEV)   \n",
       "2          Battery Electric Vehicle (BEV)   \n",
       "3  Plug-in Hybrid Electric Vehicle (PHEV)   \n",
       "4          Battery Electric Vehicle (BEV)   \n",
       "\n",
       "  Clean Alternative Fuel Vehicle (CAFV) Eligibility  Electric Range  \\\n",
       "0           Clean Alternative Fuel Vehicle Eligible             308   \n",
       "1           Clean Alternative Fuel Vehicle Eligible              73   \n",
       "2           Clean Alternative Fuel Vehicle Eligible              81   \n",
       "3           Clean Alternative Fuel Vehicle Eligible              38   \n",
       "4           Clean Alternative Fuel Vehicle Eligible             238   \n",
       "\n",
       "   Base MSRP Expected Price ($1k)  \n",
       "0          0                   50  \n",
       "1          0                   15  \n",
       "2          0                   18  \n",
       "3          0                 33.9  \n",
       "4          0                41.78  "
      ]
     },
     "execution_count": 73,
     "metadata": {},
     "output_type": "execute_result"
    }
   ],
   "source": [
    "df2.head()"
   ]
  },
  {
   "cell_type": "code",
   "execution_count": 74,
   "metadata": {},
   "outputs": [],
   "source": [
    "df['Expected Price ($1k)'] = pd.to_numeric(df['Expected Price ($1k)'], downcast='float')"
   ]
  },
  {
   "cell_type": "code",
   "execution_count": 75,
   "metadata": {},
   "outputs": [
    {
     "name": "stdout",
     "output_type": "stream",
     "text": [
      "<class 'pandas.core.frame.DataFrame'>\n",
      "Int64Index: 64340 entries, 0 to 64352\n",
      "Data columns (total 12 columns):\n",
      " #   Column                                             Non-Null Count  Dtype  \n",
      "---  ------                                             --------------  -----  \n",
      " 0   County                                             64340 non-null  object \n",
      " 1   City                                               64340 non-null  object \n",
      " 2   State                                              64340 non-null  object \n",
      " 3   ZIP Code                                           64340 non-null  float64\n",
      " 4   Model Year                                         64340 non-null  float64\n",
      " 5   Make                                               64340 non-null  object \n",
      " 6   Model                                              64340 non-null  object \n",
      " 7   Electric Vehicle Type                              64340 non-null  object \n",
      " 8   Clean Alternative Fuel Vehicle (CAFV) Eligibility  64340 non-null  object \n",
      " 9   Electric Range                                     64340 non-null  int64  \n",
      " 10  Base MSRP                                          64340 non-null  int64  \n",
      " 11  Expected Price ($1k)                               64340 non-null  float32\n",
      "dtypes: float32(1), float64(2), int64(2), object(7)\n",
      "memory usage: 6.1+ MB\n"
     ]
    }
   ],
   "source": [
    "df.info()"
   ]
  },
  {
   "cell_type": "code",
   "execution_count": 76,
   "metadata": {},
   "outputs": [
    {
     "data": {
      "text/html": [
       "<div>\n",
       "<style scoped>\n",
       "    .dataframe tbody tr th:only-of-type {\n",
       "        vertical-align: middle;\n",
       "    }\n",
       "\n",
       "    .dataframe tbody tr th {\n",
       "        vertical-align: top;\n",
       "    }\n",
       "\n",
       "    .dataframe thead th {\n",
       "        text-align: right;\n",
       "    }\n",
       "</style>\n",
       "<table border=\"1\" class=\"dataframe\">\n",
       "  <thead>\n",
       "    <tr style=\"text-align: right;\">\n",
       "      <th></th>\n",
       "      <th>ZIP Code</th>\n",
       "      <th>Model Year</th>\n",
       "      <th>Electric Range</th>\n",
       "      <th>Base MSRP</th>\n",
       "      <th>Expected Price ($1k)</th>\n",
       "    </tr>\n",
       "  </thead>\n",
       "  <tbody>\n",
       "    <tr>\n",
       "      <th>count</th>\n",
       "      <td>64340.000000</td>\n",
       "      <td>64340.000000</td>\n",
       "      <td>64340.000000</td>\n",
       "      <td>64340.000000</td>\n",
       "      <td>64340.000000</td>\n",
       "    </tr>\n",
       "    <tr>\n",
       "      <th>mean</th>\n",
       "      <td>98143.413025</td>\n",
       "      <td>2018.185483</td>\n",
       "      <td>106.962916</td>\n",
       "      <td>2525.500933</td>\n",
       "      <td>45.447971</td>\n",
       "    </tr>\n",
       "    <tr>\n",
       "      <th>std</th>\n",
       "      <td>2856.215294</td>\n",
       "      <td>2.726549</td>\n",
       "      <td>104.099820</td>\n",
       "      <td>12404.096135</td>\n",
       "      <td>24.728205</td>\n",
       "    </tr>\n",
       "    <tr>\n",
       "      <th>min</th>\n",
       "      <td>745.000000</td>\n",
       "      <td>1993.000000</td>\n",
       "      <td>0.000000</td>\n",
       "      <td>0.000000</td>\n",
       "      <td>0.000000</td>\n",
       "    </tr>\n",
       "    <tr>\n",
       "      <th>25%</th>\n",
       "      <td>98052.000000</td>\n",
       "      <td>2017.000000</td>\n",
       "      <td>14.000000</td>\n",
       "      <td>0.000000</td>\n",
       "      <td>22.857000</td>\n",
       "    </tr>\n",
       "    <tr>\n",
       "      <th>50%</th>\n",
       "      <td>98121.000000</td>\n",
       "      <td>2018.000000</td>\n",
       "      <td>73.000000</td>\n",
       "      <td>0.000000</td>\n",
       "      <td>40.000000</td>\n",
       "    </tr>\n",
       "    <tr>\n",
       "      <th>75%</th>\n",
       "      <td>98370.000000</td>\n",
       "      <td>2021.000000</td>\n",
       "      <td>215.000000</td>\n",
       "      <td>0.000000</td>\n",
       "      <td>65.900002</td>\n",
       "    </tr>\n",
       "    <tr>\n",
       "      <th>max</th>\n",
       "      <td>99701.000000</td>\n",
       "      <td>2022.000000</td>\n",
       "      <td>337.000000</td>\n",
       "      <td>845000.000000</td>\n",
       "      <td>1100.000000</td>\n",
       "    </tr>\n",
       "  </tbody>\n",
       "</table>\n",
       "</div>"
      ],
      "text/plain": [
       "           ZIP Code    Model Year  Electric Range      Base MSRP  \\\n",
       "count  64340.000000  64340.000000    64340.000000   64340.000000   \n",
       "mean   98143.413025   2018.185483      106.962916    2525.500933   \n",
       "std     2856.215294      2.726549      104.099820   12404.096135   \n",
       "min      745.000000   1993.000000        0.000000       0.000000   \n",
       "25%    98052.000000   2017.000000       14.000000       0.000000   \n",
       "50%    98121.000000   2018.000000       73.000000       0.000000   \n",
       "75%    98370.000000   2021.000000      215.000000       0.000000   \n",
       "max    99701.000000   2022.000000      337.000000  845000.000000   \n",
       "\n",
       "       Expected Price ($1k)  \n",
       "count          64340.000000  \n",
       "mean              45.447971  \n",
       "std               24.728205  \n",
       "min                0.000000  \n",
       "25%               22.857000  \n",
       "50%               40.000000  \n",
       "75%               65.900002  \n",
       "max             1100.000000  "
      ]
     },
     "execution_count": 76,
     "metadata": {},
     "output_type": "execute_result"
    }
   ],
   "source": [
    "df.describe()"
   ]
  },
  {
   "cell_type": "code",
   "execution_count": 77,
   "metadata": {},
   "outputs": [
    {
     "data": {
      "text/plain": [
       "<AxesSubplot:xlabel='Expected Price ($1k)'>"
      ]
     },
     "execution_count": 77,
     "metadata": {},
     "output_type": "execute_result"
    },
    {
     "data": {
      "image/png": "[encoded data removed]",
      "text/plain": [
       "<Figure size 640x480 with 1 Axes>"
      ]
     },
     "metadata": {},
     "output_type": "display_data"
    }
   ],
   "source": [
    "sns.boxplot(x=df['Expected Price ($1k)'])"
   ]
  },
  {
   "cell_type": "code",
   "execution_count": 78,
   "metadata": {},
   "outputs": [],
   "source": [
    "uv = np.nanpercentile(df['Expected Price ($1k)'], [99])[0]"
   ]
  },
  {
   "cell_type": "code",
   "execution_count": 79,
   "metadata": {},
   "outputs": [
    {
     "name": "stderr",
     "output_type": "stream",
     "text": [
      "C:\\Users\\2021\\.conda\\envs\\electricvehiclepriceprediction\\lib\\site-packages\\ipykernel_launcher.py:1: SettingWithCopyWarning: \n",
      "A value is trying to be set on a copy of a slice from a DataFrame\n",
      "\n",
      "See the caveats in the documentation: https://pandas.pydata.org/pandas-docs/stable/user_guide/indexing.html#returning-a-view-versus-a-copy\n",
      "  \"\"\"Entry point for launching an IPython kernel.\n"
     ]
    }
   ],
   "source": [
    "df['Expected Price ($1k)'][(df['Expected Price ($1k)']>uv)] = uv"
   ]
  },
  {
   "cell_type": "code",
   "execution_count": 80,
   "metadata": {},
   "outputs": [
    {
     "data": {
      "text/plain": [
       "<AxesSubplot:xlabel='Expected Price ($1k)'>"
      ]
     },
     "execution_count": 80,
     "metadata": {},
     "output_type": "execute_result"
    },
    {
     "data": {
      "image/png": "[encoded data removed]",
      "text/plain": [
       "<Figure size 640x480 with 1 Axes>"
      ]
     },
     "metadata": {},
     "output_type": "display_data"
    }
   ],
   "source": [
    "sns.boxplot(x=df['Expected Price ($1k)'])"
   ]
  },
  {
   "cell_type": "code",
   "execution_count": 81,
   "metadata": {},
   "outputs": [
    {
     "data": {
      "text/plain": [
       "<AxesSubplot:xlabel='Base MSRP'>"
      ]
     },
     "execution_count": 81,
     "metadata": {},
     "output_type": "execute_result"
    },
    {
     "data": {
      "image/png": "[encoded data removed]",
      "text/plain": [
       "<Figure size 640x480 with 1 Axes>"
      ]
     },
     "metadata": {},
     "output_type": "display_data"
    }
   ],
   "source": [
    "sns.boxplot(x=df['Base MSRP'])"
   ]
  },
  {
   "cell_type": "code",
   "execution_count": 82,
   "metadata": {},
   "outputs": [],
   "source": [
    "uv = np.nanpercentile(df['Base MSRP'], [99])[0]*2"
   ]
  },
  {
   "cell_type": "code",
   "execution_count": 83,
   "metadata": {},
   "outputs": [
    {
     "name": "stderr",
     "output_type": "stream",
     "text": [
      "C:\\Users\\2021\\.conda\\envs\\electricvehiclepriceprediction\\lib\\site-packages\\ipykernel_launcher.py:1: SettingWithCopyWarning: \n",
      "A value is trying to be set on a copy of a slice from a DataFrame\n",
      "\n",
      "See the caveats in the documentation: https://pandas.pydata.org/pandas-docs/stable/user_guide/indexing.html#returning-a-view-versus-a-copy\n",
      "  \"\"\"Entry point for launching an IPython kernel.\n"
     ]
    }
   ],
   "source": [
    "df['Base MSRP'][(df['Base MSRP']>uv)] = uv"
   ]
  },
  {
   "cell_type": "code",
   "execution_count": 84,
   "metadata": {},
   "outputs": [
    {
     "data": {
      "text/plain": [
       "<AxesSubplot:xlabel='Base MSRP'>"
      ]
     },
     "execution_count": 84,
     "metadata": {},
     "output_type": "execute_result"
    },
    {
     "data": {
      "image/png": "[encoded data removed]",
      "text/plain": [
       "<Figure size 640x480 with 1 Axes>"
      ]
     },
     "metadata": {},
     "output_type": "display_data"
    }
   ],
   "source": [
    "sns.boxplot(x=df['Base MSRP'])"
   ]
  },
  {
   "cell_type": "code",
   "execution_count": 85,
   "metadata": {},
   "outputs": [
    {
     "data": {
      "text/html": [
       "<div>\n",
       "<style scoped>\n",
       "    .dataframe tbody tr th:only-of-type {\n",
       "        vertical-align: middle;\n",
       "    }\n",
       "\n",
       "    .dataframe tbody tr th {\n",
       "        vertical-align: top;\n",
       "    }\n",
       "\n",
       "    .dataframe thead th {\n",
       "        text-align: right;\n",
       "    }\n",
       "</style>\n",
       "<table border=\"1\" class=\"dataframe\">\n",
       "  <thead>\n",
       "    <tr style=\"text-align: right;\">\n",
       "      <th></th>\n",
       "      <th>ZIP Code</th>\n",
       "      <th>Model Year</th>\n",
       "      <th>Electric Range</th>\n",
       "      <th>Base MSRP</th>\n",
       "      <th>Expected Price ($1k)</th>\n",
       "    </tr>\n",
       "  </thead>\n",
       "  <tbody>\n",
       "    <tr>\n",
       "      <th>count</th>\n",
       "      <td>64340.000000</td>\n",
       "      <td>64340.000000</td>\n",
       "      <td>64340.000000</td>\n",
       "      <td>64340.000000</td>\n",
       "      <td>64340.000000</td>\n",
       "    </tr>\n",
       "    <tr>\n",
       "      <th>mean</th>\n",
       "      <td>98143.413025</td>\n",
       "      <td>2018.185483</td>\n",
       "      <td>106.962916</td>\n",
       "      <td>2508.301679</td>\n",
       "      <td>45.163280</td>\n",
       "    </tr>\n",
       "    <tr>\n",
       "      <th>std</th>\n",
       "      <td>2856.215294</td>\n",
       "      <td>2.726549</td>\n",
       "      <td>104.099820</td>\n",
       "      <td>11879.876330</td>\n",
       "      <td>23.262451</td>\n",
       "    </tr>\n",
       "    <tr>\n",
       "      <th>min</th>\n",
       "      <td>745.000000</td>\n",
       "      <td>1993.000000</td>\n",
       "      <td>0.000000</td>\n",
       "      <td>0.000000</td>\n",
       "      <td>0.000000</td>\n",
       "    </tr>\n",
       "    <tr>\n",
       "      <th>25%</th>\n",
       "      <td>98052.000000</td>\n",
       "      <td>2017.000000</td>\n",
       "      <td>14.000000</td>\n",
       "      <td>0.000000</td>\n",
       "      <td>22.857000</td>\n",
       "    </tr>\n",
       "    <tr>\n",
       "      <th>50%</th>\n",
       "      <td>98121.000000</td>\n",
       "      <td>2018.000000</td>\n",
       "      <td>73.000000</td>\n",
       "      <td>0.000000</td>\n",
       "      <td>40.000000</td>\n",
       "    </tr>\n",
       "    <tr>\n",
       "      <th>75%</th>\n",
       "      <td>98370.000000</td>\n",
       "      <td>2021.000000</td>\n",
       "      <td>215.000000</td>\n",
       "      <td>0.000000</td>\n",
       "      <td>65.900002</td>\n",
       "    </tr>\n",
       "    <tr>\n",
       "      <th>max</th>\n",
       "      <td>99701.000000</td>\n",
       "      <td>2022.000000</td>\n",
       "      <td>337.000000</td>\n",
       "      <td>139800.000000</td>\n",
       "      <td>105.000000</td>\n",
       "    </tr>\n",
       "  </tbody>\n",
       "</table>\n",
       "</div>"
      ],
      "text/plain": [
       "           ZIP Code    Model Year  Electric Range      Base MSRP  \\\n",
       "count  64340.000000  64340.000000    64340.000000   64340.000000   \n",
       "mean   98143.413025   2018.185483      106.962916    2508.301679   \n",
       "std     2856.215294      2.726549      104.099820   11879.876330   \n",
       "min      745.000000   1993.000000        0.000000       0.000000   \n",
       "25%    98052.000000   2017.000000       14.000000       0.000000   \n",
       "50%    98121.000000   2018.000000       73.000000       0.000000   \n",
       "75%    98370.000000   2021.000000      215.000000       0.000000   \n",
       "max    99701.000000   2022.000000      337.000000  139800.000000   \n",
       "\n",
       "       Expected Price ($1k)  \n",
       "count          64340.000000  \n",
       "mean              45.163280  \n",
       "std               23.262451  \n",
       "min                0.000000  \n",
       "25%               22.857000  \n",
       "50%               40.000000  \n",
       "75%               65.900002  \n",
       "max              105.000000  "
      ]
     },
     "execution_count": 85,
     "metadata": {},
     "output_type": "execute_result"
    }
   ],
   "source": [
    "df.describe()"
   ]
  },
  {
   "cell_type": "code",
   "execution_count": 86,
   "metadata": {},
   "outputs": [
    {
     "data": {
      "text/html": [
       "<div>\n",
       "<style scoped>\n",
       "    .dataframe tbody tr th:only-of-type {\n",
       "        vertical-align: middle;\n",
       "    }\n",
       "\n",
       "    .dataframe tbody tr th {\n",
       "        vertical-align: top;\n",
       "    }\n",
       "\n",
       "    .dataframe thead th {\n",
       "        text-align: right;\n",
       "    }\n",
       "</style>\n",
       "<table border=\"1\" class=\"dataframe\">\n",
       "  <thead>\n",
       "    <tr style=\"text-align: right;\">\n",
       "      <th></th>\n",
       "      <th>ZIP Code</th>\n",
       "      <th>Model Year</th>\n",
       "      <th>Electric Range</th>\n",
       "      <th>Base MSRP</th>\n",
       "      <th>Expected Price ($1k)</th>\n",
       "    </tr>\n",
       "  </thead>\n",
       "  <tbody>\n",
       "    <tr>\n",
       "      <th>ZIP Code</th>\n",
       "      <td>1.000000</td>\n",
       "      <td>-0.003765</td>\n",
       "      <td>-0.010227</td>\n",
       "      <td>-0.000150</td>\n",
       "      <td>-0.006954</td>\n",
       "    </tr>\n",
       "    <tr>\n",
       "      <th>Model Year</th>\n",
       "      <td>-0.003765</td>\n",
       "      <td>1.000000</td>\n",
       "      <td>-0.080465</td>\n",
       "      <td>-0.226949</td>\n",
       "      <td>0.570594</td>\n",
       "    </tr>\n",
       "    <tr>\n",
       "      <th>Electric Range</th>\n",
       "      <td>-0.010227</td>\n",
       "      <td>-0.080465</td>\n",
       "      <td>1.000000</td>\n",
       "      <td>0.056520</td>\n",
       "      <td>0.238468</td>\n",
       "    </tr>\n",
       "    <tr>\n",
       "      <th>Base MSRP</th>\n",
       "      <td>-0.000150</td>\n",
       "      <td>-0.226949</td>\n",
       "      <td>0.056520</td>\n",
       "      <td>1.000000</td>\n",
       "      <td>-0.127201</td>\n",
       "    </tr>\n",
       "    <tr>\n",
       "      <th>Expected Price ($1k)</th>\n",
       "      <td>-0.006954</td>\n",
       "      <td>0.570594</td>\n",
       "      <td>0.238468</td>\n",
       "      <td>-0.127201</td>\n",
       "      <td>1.000000</td>\n",
       "    </tr>\n",
       "  </tbody>\n",
       "</table>\n",
       "</div>"
      ],
      "text/plain": [
       "                      ZIP Code  Model Year  Electric Range  Base MSRP  \\\n",
       "ZIP Code              1.000000   -0.003765       -0.010227  -0.000150   \n",
       "Model Year           -0.003765    1.000000       -0.080465  -0.226949   \n",
       "Electric Range       -0.010227   -0.080465        1.000000   0.056520   \n",
       "Base MSRP            -0.000150   -0.226949        0.056520   1.000000   \n",
       "Expected Price ($1k) -0.006954    0.570594        0.238468  -0.127201   \n",
       "\n",
       "                      Expected Price ($1k)  \n",
       "ZIP Code                         -0.006954  \n",
       "Model Year                        0.570594  \n",
       "Electric Range                    0.238468  \n",
       "Base MSRP                        -0.127201  \n",
       "Expected Price ($1k)              1.000000  "
      ]
     },
     "execution_count": 86,
     "metadata": {},
     "output_type": "execute_result"
    }
   ],
   "source": [
    "df.corr()"
   ]
  },
  {
   "cell_type": "code",
   "execution_count": 87,
   "metadata": {},
   "outputs": [
    {
     "data": {
      "text/plain": [
       "<seaborn.axisgrid.JointGrid at 0x22660d448c8>"
      ]
     },
     "execution_count": 87,
     "metadata": {},
     "output_type": "execute_result"
    },
    {
     "data": {
      "image/png": "[encoded data removed]",
      "text/plain": [
       "<Figure size 600x600 with 3 Axes>"
      ]
     },
     "metadata": {},
     "output_type": "display_data"
    }
   ],
   "source": [
    "sns.jointplot(x='Base MSRP', y='Expected Price ($1k)', data = df)"
   ]
  },
  {
   "cell_type": "code",
   "execution_count": 88,
   "metadata": {},
   "outputs": [
    {
     "data": {
      "text/html": [
       "<div>\n",
       "<style scoped>\n",
       "    .dataframe tbody tr th:only-of-type {\n",
       "        vertical-align: middle;\n",
       "    }\n",
       "\n",
       "    .dataframe tbody tr th {\n",
       "        vertical-align: top;\n",
       "    }\n",
       "\n",
       "    .dataframe thead th {\n",
       "        text-align: right;\n",
       "    }\n",
       "</style>\n",
       "<table border=\"1\" class=\"dataframe\">\n",
       "  <thead>\n",
       "    <tr style=\"text-align: right;\">\n",
       "      <th></th>\n",
       "      <th>County</th>\n",
       "      <th>City</th>\n",
       "      <th>State</th>\n",
       "      <th>ZIP Code</th>\n",
       "      <th>Model Year</th>\n",
       "      <th>Make</th>\n",
       "      <th>Model</th>\n",
       "      <th>Electric Vehicle Type</th>\n",
       "      <th>Clean Alternative Fuel Vehicle (CAFV) Eligibility</th>\n",
       "      <th>Electric Range</th>\n",
       "      <th>Base MSRP</th>\n",
       "      <th>Expected Price ($1k)</th>\n",
       "    </tr>\n",
       "  </thead>\n",
       "  <tbody>\n",
       "    <tr>\n",
       "      <th>0</th>\n",
       "      <td>Snohomish</td>\n",
       "      <td>LYNNWOOD</td>\n",
       "      <td>WA</td>\n",
       "      <td>98037.0</td>\n",
       "      <td>2020.0</td>\n",
       "      <td>TESLA</td>\n",
       "      <td>MODEL 3</td>\n",
       "      <td>Battery Electric Vehicle (BEV)</td>\n",
       "      <td>Clean Alternative Fuel Vehicle Eligible</td>\n",
       "      <td>308</td>\n",
       "      <td>0</td>\n",
       "      <td>NaN</td>\n",
       "    </tr>\n",
       "    <tr>\n",
       "      <th>1</th>\n",
       "      <td>Skagit</td>\n",
       "      <td>BELLINGHAM</td>\n",
       "      <td>WA</td>\n",
       "      <td>98229.0</td>\n",
       "      <td>2011.0</td>\n",
       "      <td>NISSAN</td>\n",
       "      <td>LEAF</td>\n",
       "      <td>Battery Electric Vehicle (BEV)</td>\n",
       "      <td>Clean Alternative Fuel Vehicle Eligible</td>\n",
       "      <td>73</td>\n",
       "      <td>0</td>\n",
       "      <td>NaN</td>\n",
       "    </tr>\n",
       "    <tr>\n",
       "      <th>2</th>\n",
       "      <td>Pierce</td>\n",
       "      <td>TACOMA</td>\n",
       "      <td>WA</td>\n",
       "      <td>98422.0</td>\n",
       "      <td>2015.0</td>\n",
       "      <td>BMW</td>\n",
       "      <td>I3</td>\n",
       "      <td>Battery Electric Vehicle (BEV)</td>\n",
       "      <td>Clean Alternative Fuel Vehicle Eligible</td>\n",
       "      <td>81</td>\n",
       "      <td>0</td>\n",
       "      <td>NaN</td>\n",
       "    </tr>\n",
       "    <tr>\n",
       "      <th>3</th>\n",
       "      <td>King</td>\n",
       "      <td>REDMOND</td>\n",
       "      <td>WA</td>\n",
       "      <td>98053.0</td>\n",
       "      <td>2013.0</td>\n",
       "      <td>CHEVROLET</td>\n",
       "      <td>VOLT</td>\n",
       "      <td>Plug-in Hybrid Electric Vehicle (PHEV)</td>\n",
       "      <td>Clean Alternative Fuel Vehicle Eligible</td>\n",
       "      <td>38</td>\n",
       "      <td>0</td>\n",
       "      <td>NaN</td>\n",
       "    </tr>\n",
       "    <tr>\n",
       "      <th>4</th>\n",
       "      <td>Pierce</td>\n",
       "      <td>PUYALLUP</td>\n",
       "      <td>WA</td>\n",
       "      <td>98375.0</td>\n",
       "      <td>2019.0</td>\n",
       "      <td>CHEVROLET</td>\n",
       "      <td>BOLT EV</td>\n",
       "      <td>Battery Electric Vehicle (BEV)</td>\n",
       "      <td>Clean Alternative Fuel Vehicle Eligible</td>\n",
       "      <td>238</td>\n",
       "      <td>0</td>\n",
       "      <td>NaN</td>\n",
       "    </tr>\n",
       "  </tbody>\n",
       "</table>\n",
       "</div>"
      ],
      "text/plain": [
       "      County        City State  ZIP Code  Model Year       Make    Model  \\\n",
       "0  Snohomish    LYNNWOOD    WA   98037.0      2020.0      TESLA  MODEL 3   \n",
       "1     Skagit  BELLINGHAM    WA   98229.0      2011.0     NISSAN     LEAF   \n",
       "2     Pierce      TACOMA    WA   98422.0      2015.0        BMW       I3   \n",
       "3       King     REDMOND    WA   98053.0      2013.0  CHEVROLET     VOLT   \n",
       "4     Pierce    PUYALLUP    WA   98375.0      2019.0  CHEVROLET  BOLT EV   \n",
       "\n",
       "                    Electric Vehicle Type  \\\n",
       "0          Battery Electric Vehicle (BEV)   \n",
       "1          Battery Electric Vehicle (BEV)   \n",
       "2          Battery Electric Vehicle (BEV)   \n",
       "3  Plug-in Hybrid Electric Vehicle (PHEV)   \n",
       "4          Battery Electric Vehicle (BEV)   \n",
       "\n",
       "  Clean Alternative Fuel Vehicle (CAFV) Eligibility  Electric Range  \\\n",
       "0           Clean Alternative Fuel Vehicle Eligible             308   \n",
       "1           Clean Alternative Fuel Vehicle Eligible              73   \n",
       "2           Clean Alternative Fuel Vehicle Eligible              81   \n",
       "3           Clean Alternative Fuel Vehicle Eligible              38   \n",
       "4           Clean Alternative Fuel Vehicle Eligible             238   \n",
       "\n",
       "   Base MSRP Expected Price ($1k)  \n",
       "0          0                  NaN  \n",
       "1          0                  NaN  \n",
       "2          0                  NaN  \n",
       "3          0                  NaN  \n",
       "4          0                  NaN  "
      ]
     },
     "execution_count": 88,
     "metadata": {},
     "output_type": "execute_result"
    }
   ],
   "source": [
    "t=df.drop('Expected Price ($1k)', axis=1)\n",
    "t=t.append(df2)\n",
    "t.head()"
   ]
  },
  {
   "cell_type": "code",
   "execution_count": 89,
   "metadata": {},
   "outputs": [],
   "source": [
    "y = df['Expected Price ($1k)']\n",
    "x = df.drop('Expected Price ($1k)', axis = 1)"
   ]
  },
  {
   "cell_type": "code",
   "execution_count": 90,
   "metadata": {},
   "outputs": [
    {
     "name": "stdout",
     "output_type": "stream",
     "text": [
      "['Adams' 'Alameda' 'Albemarle' 'Alexandria City' 'Allegheny' 'Anchorage'\n",
      " 'Anne Arundel' 'Asotin' 'Baltimore' 'Bartow' 'Bell' 'Benton' 'Bexar'\n",
      " 'Bradley' 'Calvert' 'Camden' 'Carroll' 'Carson City' 'Charles' 'Chaves'\n",
      " 'Chelan' 'Chesapeake City' 'Clallam' 'Clark' 'Columbia' 'Coryell'\n",
      " 'Cowlitz' 'Cumberland' 'Danville City' 'Davidson' 'Denton'\n",
      " 'District Of Columbia' 'Douglas' 'Dupage' 'Duval' 'El Paso' 'Erie'\n",
      " 'Fairbanks North Star' 'Fairfax' 'Ferry' 'Flathead' 'Franklin'\n",
      " 'Frederick' 'Garfield' 'Glacier' 'Goochland' 'Grant' 'Grays Harbor'\n",
      " 'Guadalupe' 'Hamilton' 'Harris' 'Harrison' 'Hillsborough' 'Honolulu'\n",
      " 'Houdson' 'Howard' 'Hudson' 'Humacao' 'Island' 'Jefferson' 'Kern' 'King'\n",
      " 'Kings' 'Kitsap' 'Kittitas' 'Klamath' 'Klickitat' 'Lake' 'Laramie'\n",
      " 'Leavenworth' 'Lewis' 'Liberty' 'Lincoln' 'Los Angeles' 'Maricopa'\n",
      " 'Marin' 'Mason' 'Mecklenburg' 'Monterey' 'Montgomery' 'Multnomah'\n",
      " 'Muscogee' 'New Castle' 'New London' 'Newport' 'Norfolk City' 'Nueces'\n",
      " 'Okanogan' 'Orange' 'Otero' 'Ozaukee' 'Pacific' 'Passaic' 'Pend Oreille'\n",
      " 'Pennington' 'Philadelphia' 'Pierce' 'Pinellas' 'Placer' 'Plaquemines'\n",
      " 'Platte' 'Powhatan' 'Prince Georges' 'Prince William' 'Queens' 'Riley'\n",
      " 'Riverside' 'Rock Island' 'Sacramento' 'Saint Clair' 'Saint Marys'\n",
      " 'Salt Lake' 'San Bernardino' 'San Diego' 'San Juan' 'Santa Clara'\n",
      " 'Santa Cruz' 'Sarasota' 'Sarpy' 'Skagit' 'Skamania' 'Snohomish'\n",
      " 'SouthWest' 'Spokane' 'Stafford' 'Stevens' 'Suffolk' 'Thurston' 'Tipton'\n",
      " 'Ventura' 'Virginia Beach City' 'Wahkiakum' 'Wake' 'Walla Walla' 'Washoe'\n",
      " 'Whatcom' 'Whitman' 'Wichita' 'Wilson' 'Yakima' 'Yamhill' nan]\n",
      "['ABERDEEN' 'ACME' 'ADAIRSVILLE' 'ADDY' 'AIRWAY HEIGHTS' 'ALAMEDA'\n",
      " 'ALEXANDRIA' 'ALGONA' 'ALHAMBRA' 'ALISO VIEJO' 'ALLENHURST' 'ALLYN'\n",
      " 'ALMIRA' 'AMANDA PARK' 'AMBOY' 'ANACORTES' 'ANDERSON ISLAND' 'ANNAPOLIS'\n",
      " 'ANTHEM' 'APO' 'APPLE VALLEY' 'ARIEL' 'ARLINGTON' 'ASHFORD' 'ASOTIN'\n",
      " 'ATOKA' 'AUBURN' 'BAINBRIDGE IS' 'BAINBRIDGE ISLAND' 'BARING'\n",
      " 'BATTLE GROUND' 'BAY CENTER' 'BEAUX ARTS' 'BEAVER' 'BELFAIR'\n",
      " 'BELLE CHASSE' 'BELLEVILLE' 'BELLEVUE' 'BELLINGHAM' 'BENTON CITY'\n",
      " 'BETHEL' 'BETHESDA' 'BILOXI' 'BINGEN' 'BLACK DIAMOND' 'BLAINE'\n",
      " 'BONNEY LAKE' 'BOSTON' 'BOTHELL' 'BOW' 'BREMERTON' 'BREWSTER' 'BRIER'\n",
      " 'BRINNON' 'BROOKLYN' 'BROWNING' 'BRUSH PRAIRIE' 'BUCKLEY' 'BUCODA'\n",
      " 'BURBANK' 'BURIEN' 'BURKE' 'BURLINGTON' 'CAMANO ISLAND' 'CAMARILLO'\n",
      " 'CAMAS' 'CARBONADO' 'CARLTON' 'CARMEL' 'CARNATION' 'CARROLLS' 'CARSON'\n",
      " 'CARSON CITY' 'CASHMERE' 'CASTLE ROCK' 'CATHLAMET' 'CEDARBURG'\n",
      " 'CENTERVILLE' 'CENTRALIA' 'CHARLOTTE' 'CHARLOTTESVILLE' 'CHATTAROY'\n",
      " 'CHEHALIS' 'CHELAN' 'CHENEY' 'CHESAPEAKE' 'CHESAPEAKE BEACH' 'CHEWELAH'\n",
      " 'CHEYENNE' 'CHIMACUM' 'CHINO' 'CHINOOK' 'CHUGIAK' 'CHULA VISTA' 'CINEBAR'\n",
      " 'CLALLAM BAY' 'CLARKSTON' 'CLAYMONT' 'CLAYTON' 'CLE ELUM' 'CLEARLAKE'\n",
      " 'CLEVELAND' 'CLINTON' 'CLYDE HILL' 'COLBERT' 'COLFAX' 'COLLEGE PLACE'\n",
      " 'COLUMBUS' 'COLVILLE' 'CONCRETE' 'CONNELL' 'COOK' 'COPALIS BEACH'\n",
      " 'COPALIS CROSSING' 'CORONADO' 'CORPUS CHRISTI' 'COSMOPOLIS' 'COSTA MESA'\n",
      " 'COUGAR' 'COULEE CITY' 'COULEE DAM' 'COUPEVILLE' 'COVINGTON' 'CRESTON'\n",
      " 'CURLEW' 'CURTIS' 'CUSICK' 'CUSTER' 'DALLESPORT' 'DANVILLE' 'DARRINGTON'\n",
      " 'DAVENPORT' 'DAYTON' 'DEER HARBOR' 'DEER PARK' 'DEMING' 'DES MOINES'\n",
      " 'DESERT AIRE' 'DORCHESTER' 'DUPONT' 'DUVALL' 'EAST WENATCHEE' 'EASTON'\n",
      " 'EASTSOUND' 'EATONVILLE' 'EDGEWOOD' 'EDMONDS' 'EDWALL' 'EL PASO'\n",
      " 'ELECTRIC CITY' 'ELK' 'ELKTON' 'ELLENSBURG' 'ELMA' 'ELTOPIA' 'ENDICOTT'\n",
      " 'ENTIAT' 'ENUMCLAW' 'EPHRATA' 'ETHEL' 'EVANS' 'EVERETT' 'EVERSON'\n",
      " 'EWA BEACH' 'FAIRBANKS' 'FAIRCHILD AIR FORCE BASE' 'FAIRFAX' 'FAIRFIELD'\n",
      " 'FALL CITY' 'FAYETTEVILLE' 'FEDERAL WAY' 'FERNDALE' 'FIFE' 'FIRCREST'\n",
      " 'FORD' 'FOREST PARK' 'FORKS' 'FORT BELVOIR' 'FORT WASHINGTON'\n",
      " 'FOX ISLAND' 'FPO' 'FREDERICK' 'FREELAND' 'FRIDAY HARBOR' 'FRUITLAND'\n",
      " 'GAITHERSBURG' 'GAMBRILLS' 'GARDENA' 'GARFIELD' 'GIFFORD' 'GIG HARBOR'\n",
      " 'GLENELG' 'GLENWOOD' 'GOLD BAR' 'GOLDENDALE' 'GRAHAM' 'GRAND COULEE'\n",
      " 'GRAND ISLAND' 'GRANDVIEW' 'GRANGER' 'GRANITE FALLS' 'GRAPEVIEW'\n",
      " 'GRAYLAND' 'GREENACRES' 'GREENBANK' 'GROTON' 'HANSVILLE' 'HARKER HEIGHTS'\n",
      " 'HARRINGTON' 'HIGHLAND PARK' 'HOLLOMAN AIR FORCE BASE' 'HONOLULU'\n",
      " 'HOODSPORT' 'HOQUIAM' 'HOUSTON' 'HUGHESVILLE' 'HUNTS POINT' 'HUSUM'\n",
      " 'ILWACO' 'INCHELIUM' 'INDIAN WELLS' 'INDIANOLA' 'IONE' 'ISSAQUAH'\n",
      " 'JACKSONVILLE' 'JAMAICA' 'JBLM' 'JOINT BASE LEWIS MCCHORD' 'KAILUA'\n",
      " 'KALAMA' 'KELSO' 'KENMORE' 'KENNEWICK' 'KENT' 'KETTLE FALLS' 'KEYPORT'\n",
      " 'KINGSTON' 'KIRKLAND' 'KITTITAS' 'KLAMATH FALLS' 'KOKOMO' 'LA CENTER'\n",
      " 'LA CONNER' 'LACEY' 'LAKE FOREST PARK' 'LAKE STEVENS' 'LAKE TAPPS'\n",
      " 'LAKEBAY' 'LAKESIDE' 'LAKEWOOD' 'LAMONT' 'LANGLEY' 'LANSING' 'LAS VEGAS'\n",
      " 'LAUGHLIN' 'LAYTONSVILLE' 'LEAVENWORTH' 'LEMOORE' 'LEXINGTON PK'\n",
      " 'LIBERTY LAKE' 'LILLIWAUP' 'LITTLE ELM' 'LITTLEROCK' 'LONG BEACH'\n",
      " 'LONGBRANCH' 'LONGVIEW' 'LOON LAKE' 'LOPEZ ISLAND' 'LUMMI ISLAND' 'LYLE'\n",
      " 'LYNDEN' 'LYNNWOOD' 'MABTON' 'MAITLAND' 'MALAGA' 'MANHATTAN' 'MANSON'\n",
      " 'MAPLE FALLS' 'MAPLE VALLEY' 'MARBLEMOUNT' 'MARYSVILLE' 'MATTAWA'\n",
      " 'MAZAMA' 'MCCHORD AFB' 'MCCLEARY' 'MEAD' 'MEDICAL LAKE' 'MEDINA'\n",
      " 'MERCER ISLAND' 'MESA' 'METHOW' 'MICA' 'MIDDLETOWN' 'MILL CREEK'\n",
      " 'MILLWOOD' 'MILTON' 'MINERAL' 'MOCLIPS' 'MONROE' 'MONTEREY' 'MONTESANO'\n",
      " 'MORTON' 'MOSES LAKE' 'MOSSYROCK' 'MOUNT VERNON' 'MOUNTLAKE TERRACE'\n",
      " 'MOXEE' 'MUKILTEO' 'NACHES' 'NAPAVINE' 'NASELLE' 'NASHVILLE' 'NEAH BAY'\n",
      " 'NEWBERG' 'NEWCASTLE' 'NEWMAN LAKE' 'NEWPORT' 'NEWPORT BEACH'\n",
      " 'NINE MILE FALLS' 'NOOKSACK' 'NORDLAND' 'NORFOLK' 'NORMANDY PARK'\n",
      " 'NORRISTOWN' 'NORTH BEND' 'NORTH BONNEVILLE' 'OAK HARBOR' 'OAK RIDGE'\n",
      " 'OAKVILLE' 'OCEAN CITY' 'OCEAN PARK' 'OCEAN SHORES' 'OCEANSIDE'\n",
      " 'OKANOGAN' 'OLALLA' 'OLD LYME' 'OLGA' 'OLYMPIA' 'OMAHA' 'OMAK' 'ONALASKA'\n",
      " 'ORCAS' 'ORONDO' 'OROVILLE' 'ORTING' 'OTHELLO' 'OTIS ORCHARDS' 'OUTLOOK'\n",
      " 'OYSTERVILLE' 'PACIFIC' 'PACIFIC BEACH' 'PACKWOOD' 'PALISADES'\n",
      " 'PALM HARBOR' 'PALO ALTO' 'PALOUSE' 'PAPILLION' 'PASADENA' 'PASCO'\n",
      " 'PAWCATUCK' 'PESHASTIN' 'PHILADELPHIA' 'PLATTE CITY' 'POINT ROBERTS'\n",
      " 'POMEROY' 'PORT ANGELES' 'PORT HADLOCK' 'PORT HUENEME' 'PORT LUDLOW'\n",
      " 'PORT ORCHARD' 'PORT TOWNSEND' 'PORTLAND' 'POTOMAC' 'POULSBO' 'POWHATAN'\n",
      " 'PRESCOTT' 'PRESTON' 'PROSSER' 'PULLMAN' 'PURMELA' 'PUYALLUP'\n",
      " 'QUIL CEDA VILLAGE' 'QUILCENE' 'QUINCY' 'RAINIER' 'RALEIGH' 'RANDLE'\n",
      " 'RAPID CITY' 'RAVENSDALE' 'RAYMOND' 'REARDAN' 'REDMOND' 'RENO' 'RENTON'\n",
      " 'REPUBLIC' 'RICE' 'RICHLAND' 'RICHMOND' 'RIDGECREST' 'RIDGEFIELD'\n",
      " 'RIO GRANDE' 'RITZVILLE' 'RIVERSIDE' 'ROCHE HARBOR' 'ROCHESTER'\n",
      " 'ROCK ISLAND' 'ROCKFORD' 'RONALD' 'ROOSEVELT' 'ROSALIA' 'ROSEVILLE'\n",
      " 'ROSLYN' 'ROSWELL' 'ROY' 'ROYAL CITY' 'RUSKIN' 'RUSTON' 'SACRAMENTO'\n",
      " 'SAINT JOHN' 'SAINT MARYS' 'SALKUM' 'SAMMAMISH' 'SAN ANTONIO' 'SAN DIEGO'\n",
      " 'SAN JOSE' 'SAN PEDRO' 'SAN RAFAEL' 'SANTA CRUZ' 'SARASOTA' 'SATSOP'\n",
      " 'SCHERTZ' 'SEABECK' 'SEATAC' 'SEATTLE' 'SEAVIEW' 'SECAUCUS'\n",
      " 'SEDRO WOOLLEY' 'SEKIU' 'SELAH' 'SEQUIM' 'SEVEN BAYS' 'SHAW ISLAND'\n",
      " 'SHELTON' 'SHORELINE' 'SILVER CREEK' 'SILVERDALE' 'SILVERLAKE'\n",
      " 'SKAMOKAWA' 'SKOKOMISH NATION' 'SKYKOMISH' 'SNOHOMISH' 'SNOQUALMIE'\n",
      " 'SNOQUALMIE PASS' 'SOAP LAKE' 'SOUTH BEND' 'SOUTH HILL' 'SOUTH PRAIRIE'\n",
      " 'SOUTHWORTH' 'SPANAWAY' 'SPANGLE' 'SPARKS GLENCOE' 'SPOKANE'\n",
      " 'SPOKANE VALLEY' 'SPRINGDALE' 'STAFFORD' 'STANWOOD' 'STEILACOOM'\n",
      " 'STEVENSON' 'SULTAN' 'SUMAS' 'SUMNER' 'SUNNYSIDE' 'SUQUAMISH' 'TACOMA'\n",
      " 'TAHOLAH' 'TAHUYA' 'TEKOA' 'TENINO' 'THORP' 'TIETON' 'TOKELAND' 'TOLEDO'\n",
      " 'TONASKET' 'TOPPENISH' 'TOUCHET' 'TOWNSEND' 'TROUT LAKE' 'TUKWILA'\n",
      " 'TULALIP' 'TUMTUM' 'TUMWATER' 'TWISP' 'UNDERWOOD' 'UNION' 'UNION GAP'\n",
      " 'UNIVERSITY PLACE' 'VADER' 'VALLEY' 'VALLEYFORD' 'VANCOUVER' 'VASHON'\n",
      " 'VAUGHN' 'VERADALE' 'VIENNA' 'VIRGINIA BEACH' 'VISTA' 'WAHKIACUS'\n",
      " 'WAITSBURG' 'WALDORF' 'WALDRON' 'WALLA WALLA' 'WAPATO' 'WARDEN'\n",
      " 'WASHINGTON' 'WASHOUGAL' 'WATERVILLE' 'WELLPINIT' 'WENATCHEE'\n",
      " 'WEST RICHLAND' 'WEST VALLEY' 'WESTMINSTER' 'WESTMONT' 'WESTPORT'\n",
      " 'WEXFORD' 'WHITE SALMON' 'WHITE SWAN' 'WHITEFISH' 'WICHITA FALLS'\n",
      " 'WILBUR' 'WILKESON' 'WILSON' 'WINCHESTER' 'WINLOCK' 'WINTHROP' 'WISHRAM'\n",
      " 'WOODBRIDGE' 'WOODINVILLE' 'WOODLAND' 'WOODWAY' 'YACOLT' 'YAKIMA'\n",
      " 'YARROW POINT' 'YELM' 'ZILLAH' nan]\n",
      "['AE' 'AK' 'AP' 'AZ' 'CA' 'CT' 'DC' 'DE' 'FL' 'GA' 'HI' 'IL' 'IN' 'KS'\n",
      " 'LA' 'MA' 'MD' 'MO' 'MS' 'MT' 'NC' 'NE' 'NJ' 'NM' 'NV' 'NY' 'OR' 'PA'\n",
      " 'PR' 'RI' 'SD' 'TN' 'TX' 'UT' 'VA' 'WA' 'WI' 'WY']\n",
      "[  745.  2124.  2127.  2842.  6340.  6371.  6379.  7094.  7438.  9751.\n",
      " 11201. 11436. 14072. 15090. 19034. 19122. 19403. 19703. 20002. 20009.\n",
      " 20024. 20603. 20637. 20653. 20732. 20744. 20814. 20854. 20878. 20882.\n",
      " 21054. 21122. 21152. 21157. 21401. 21701. 21704. 21737. 22015. 22032.\n",
      " 22060. 22180. 22191. 22193. 22301. 22308. 22312. 22314. 22554. 22911.\n",
      " 23139. 23238. 23321. 23324. 23464. 23517. 24541. 27601. 27893. 28208.\n",
      " 28305. 28311. 30103. 31301. 31558. 31909. 32226. 32751. 33570. 34242.\n",
      " 34685. 37221. 37323. 38004. 39531. 46032. 46901. 53012. 57701. 59417.\n",
      " 59937. 60035. 60559. 61201. 62220. 64079. 66043. 66503. 68102. 68133.\n",
      " 68135. 70037. 75068. 76310. 76548. 76566. 77042. 78154. 78214. 78251.\n",
      " 78405. 79911. 82001. 84128. 85086. 88201. 88330. 89029. 89107. 89138.\n",
      " 89521. 89706. 90249. 90732. 90802. 91708. 91801. 91913. 92040. 92056.\n",
      " 92058. 92081. 92101. 92102. 92106. 92109. 92118. 92123. 92124. 92127.\n",
      " 92130. 92210. 92308. 92596. 92626. 92656. 92660. 93010. 93041. 93245.\n",
      " 93555. 93940. 94303. 94501. 94901. 95062. 95134. 95747. 95817. 96349.\n",
      " 96662. 96678. 96706. 96734. 96814. 96817. 97132. 97202. 97214. 97239.\n",
      " 97436. 97601. 98001. 98002. 98003. 98004. 98005. 98006. 98007. 98008.\n",
      " 98010. 98011. 98012. 98014. 98015. 98019. 98020. 98021. 98022. 98023.\n",
      " 98024. 98026. 98027. 98028. 98029. 98030. 98031. 98032. 98033. 98034.\n",
      " 98036. 98037. 98038. 98039. 98040. 98042. 98043. 98045. 98047. 98050.\n",
      " 98051. 98052. 98053. 98055. 98056. 98057. 98058. 98059. 98065. 98068.\n",
      " 98070. 98072. 98074. 98075. 98077. 98082. 98083. 98087. 98092. 98101.\n",
      " 98102. 98103. 98104. 98105. 98106. 98107. 98108. 98109. 98110. 98112.\n",
      " 98115. 98116. 98117. 98118. 98119. 98121. 98122. 98124. 98125. 98126.\n",
      " 98133. 98134. 98136. 98144. 98146. 98148. 98155. 98158. 98164. 98166.\n",
      " 98168. 98177. 98178. 98188. 98198. 98199. 98201. 98203. 98204. 98206.\n",
      " 98207. 98208. 98220. 98221. 98223. 98224. 98225. 98226. 98227. 98229.\n",
      " 98230. 98232. 98233. 98235. 98236. 98237. 98239. 98240. 98241. 98243.\n",
      " 98244. 98245. 98247. 98248. 98249. 98250. 98251. 98252. 98253. 98257.\n",
      " 98258. 98260. 98261. 98262. 98264. 98266. 98267. 98270. 98271. 98272.\n",
      " 98273. 98274. 98275. 98276. 98277. 98278. 98279. 98280. 98281. 98282.\n",
      " 98284. 98286. 98288. 98290. 98292. 98294. 98295. 98296. 98297. 98303.\n",
      " 98304. 98305. 98310. 98311. 98312. 98314. 98315. 98320. 98321. 98323.\n",
      " 98325. 98326. 98327. 98328. 98329. 98331. 98332. 98333. 98335. 98337.\n",
      " 98338. 98339. 98340. 98342. 98345. 98346. 98349. 98351. 98354. 98355.\n",
      " 98356. 98357. 98358. 98359. 98360. 98361. 98362. 98363. 98365. 98366.\n",
      " 98367. 98368. 98370. 98371. 98372. 98373. 98374. 98375. 98376. 98377.\n",
      " 98380. 98381. 98382. 98383. 98385. 98386. 98387. 98388. 98390. 98391.\n",
      " 98392. 98394. 98396. 98402. 98403. 98404. 98405. 98406. 98407. 98408.\n",
      " 98409. 98418. 98421. 98422. 98424. 98431. 98433. 98438. 98439. 98443.\n",
      " 98444. 98445. 98446. 98465. 98466. 98467. 98498. 98499. 98501. 98502.\n",
      " 98503. 98504. 98506. 98507. 98508. 98512. 98513. 98516. 98520. 98524.\n",
      " 98526. 98527. 98528. 98530. 98531. 98532. 98533. 98535. 98536. 98537.\n",
      " 98538. 98541. 98542. 98546. 98547. 98548. 98550. 98555. 98556. 98557.\n",
      " 98562. 98563. 98564. 98565. 98568. 98569. 98570. 98571. 98576. 98577.\n",
      " 98579. 98580. 98582. 98583. 98584. 98585. 98586. 98587. 98588. 98589.\n",
      " 98590. 98591. 98592. 98593. 98595. 98596. 98597. 98601. 98603. 98604.\n",
      " 98605. 98606. 98607. 98609. 98610. 98611. 98612. 98613. 98614. 98616.\n",
      " 98617. 98619. 98620. 98623. 98624. 98625. 98626. 98629. 98631. 98632.\n",
      " 98635. 98638. 98639. 98640. 98641. 98642. 98644. 98645. 98647. 98648.\n",
      " 98650. 98651. 98660. 98661. 98662. 98663. 98664. 98665. 98670. 98671.\n",
      " 98672. 98673. 98674. 98675. 98682. 98683. 98684. 98685. 98686. 98801.\n",
      " 98802. 98810. 98812. 98814. 98815. 98816. 98822. 98823. 98826. 98828.\n",
      " 98831. 98833. 98834. 98837. 98840. 98841. 98843. 98844. 98845. 98847.\n",
      " 98848. 98849. 98850. 98851. 98855. 98856. 98857. 98858. 98862. 98901.\n",
      " 98902. 98903. 98908. 98922. 98925. 98926. 98930. 98932. 98934. 98935.\n",
      " 98936. 98937. 98938. 98940. 98941. 98942. 98944. 98946. 98947. 98948.\n",
      " 98951. 98952. 98953. 99001. 99003. 99004. 99005. 99006. 99008. 99009.\n",
      " 99011. 99012. 99013. 99016. 99017. 99019. 99021. 99022. 99023. 99025.\n",
      " 99026. 99027. 99029. 99030. 99031. 99033. 99034. 99036. 99037. 99040.\n",
      " 99101. 99103. 99109. 99110. 99111. 99114. 99115. 99116. 99118. 99119.\n",
      " 99122. 99123. 99125. 99126. 99129. 99130. 99131. 99133. 99134. 99138.\n",
      " 99139. 99141. 99147. 99148. 99156. 99161. 99163. 99164. 99166. 99167.\n",
      " 99169. 99170. 99171. 99173. 99181. 99185. 99201. 99202. 99203. 99204.\n",
      " 99205. 99206. 99207. 99208. 99212. 99216. 99217. 99218. 99223. 99224.\n",
      " 99301. 99320. 99323. 99324. 99326. 99328. 99330. 99336. 99337. 99338.\n",
      " 99343. 99344. 99347. 99348. 99349. 99350. 99352. 99353. 99354. 99356.\n",
      " 99357. 99360. 99361. 99362. 99402. 99403. 99567. 99701.    nan]\n",
      "[1993. 1998. 1999. 2000. 2002. 2008. 2010. 2011. 2012. 2013. 2014. 2015.\n",
      " 2016. 2017. 2018. 2019. 2020. 2021. 2022.]\n",
      "['AUDI' 'AZURE DYNAMICS' 'BENTLEY' 'BMW' 'CADILLAC' 'CHEVROLET' 'CHRYSLER'\n",
      " 'DODGE' 'FIAT' 'FISKER' 'FORD' 'HONDA' 'HYUNDAI' 'JAGUAR' 'JEEP' 'KIA'\n",
      " 'LAND ROVER' 'LINCOLN' 'LUCID MOTORS' 'MERCEDES-BENZ' 'MINI' 'MITSUBISHI'\n",
      " 'NISSAN' 'POLESTAR' 'PORSCHE' 'RIVIAN' 'SMART' 'SUBARU' 'TESLA' 'TH!NK'\n",
      " 'TOYOTA' 'VOLKSWAGEN' 'VOLVO' 'WHEEGO ELECTRIC CARS']\n",
      "['$16.36K' '330E' '500' '530E' '530E XDRIVE' '740E XDRIVE' '745E'\n",
      " '918 SPYDER' 'A3' 'A7' 'A8 E' 'ACCORD' 'AVIATOR' 'B-CLASS' 'BENTAYGA'\n",
      " 'BOLT EV' 'C-CLASS' 'C-MAX' 'C40' 'CARAVAN' 'CAYENNE' 'CITY' 'CLARITY'\n",
      " 'CORSAIR' 'COUNTRYMAN' 'CROSSTREK HYBRID AWD' 'CT6' 'E-GOLF' 'E-TRON'\n",
      " 'E-TRON SPORTBACK' 'ELR' 'EQ FORTWO' 'EQS-CLASS' 'ESCAPE' 'EV6' 'F-150'\n",
      " 'FOCUS' 'FORTWO' 'FORTWO ELECTRIC DRIVE' 'FUSION' 'GLC-CLASS' 'GLE-CLASS'\n",
      " 'HARDTOP' 'I-MIEV' 'I-PACE' 'I3' 'I8' 'ID.4' 'IONIQ' 'IONIQ 5' 'KARMA'\n",
      " 'KONA' 'KONA ELECTRIC' 'LEAF' 'LIFE' 'LUCID AIR' 'MACH-E' 'MODEL 3'\n",
      " 'MODEL S' 'MODEL X' 'MODEL Y' 'NIRO' 'NIRO ELECTRIC'\n",
      " 'NIRO PLUG-IN HYBRID' 'OPTIMA' 'OPTIMA PLUG-IN HYBRID' 'OUTLANDER'\n",
      " 'PACIFICA' 'PANAMERA' 'PRIUS PLUG-IN' 'PRIUS PLUG-IN HYBRID'\n",
      " 'PRIUS PRIME' 'PS2' 'Q5' 'Q5 E' 'R1T' 'RANGE ROVER' 'RANGE ROVER SPORT'\n",
      " 'RANGER' 'RAV4' 'RAV4 PRIME' 'ROADSTER' 'RS E-TRON' 'S-CLASS' 'S60' 'S90'\n",
      " 'SANTA FE' 'SONATA' 'SONATA PLUG-IN HYBRID' 'SORENTO' 'SOUL' 'SOUL EV'\n",
      " 'SPARK' 'TAYCAN' 'TRANSIT CONNECT ELECTRIC' 'TUCSON' 'VOLT' 'WRANGLER'\n",
      " 'X3' 'X5' 'XC40' 'XC60' 'XC60 AWD' 'XC60 AWD PHEV' 'XC90' 'XC90 AWD'\n",
      " 'XC90 AWD PHEV']\n",
      "['Battery Electric Vehicle (BEV)' 'Plug-in Hybrid Electric Vehicle (PHEV)']\n",
      "['Clean Alternative Fuel Vehicle Eligible'\n",
      " 'Eligibility unknown as battery range has not been researched'\n",
      " 'Not eligible due to low battery range']\n"
     ]
    }
   ],
   "source": [
    "from sklearn import preprocessing\n",
    "le = preprocessing.LabelEncoder()\n",
    "cols = ['County', 'City', 'State', 'ZIP Code', 'Model Year', 'Make', 'Model', 'Electric Vehicle Type', 'Clean Alternative Fuel Vehicle (CAFV) Eligibility']\n",
    "for col in cols:\n",
    "    le.fit(t[col])\n",
    "    x[col] = le.transform(x[col]) \n",
    "    print(le.classes_)"
   ]
  },
  {
   "cell_type": "code",
   "execution_count": 91,
   "metadata": {},
   "outputs": [],
   "source": [
    "from sklearn.metrics import accuracy_score\n",
    "from sklearn.model_selection import train_test_split\n",
    "x_train, x_test, y_train, y_test = train_test_split(x, y, test_size = 0.5, random_state = 0)"
   ]
  },
  {
   "cell_type": "code",
   "execution_count": 92,
   "metadata": {},
   "outputs": [
    {
     "data": {
      "text/plain": [
       "LinearRegression()"
      ]
     },
     "execution_count": 92,
     "metadata": {},
     "output_type": "execute_result"
    }
   ],
   "source": [
    "from sklearn.linear_model import LinearRegression\n",
    "from sklearn.metrics import r2_score\n",
    "lm = LinearRegression()\n",
    "lm.fit(x_train, y_train)"
   ]
  },
  {
   "cell_type": "code",
   "execution_count": 93,
   "metadata": {},
   "outputs": [
    {
     "data": {
      "text/plain": [
       "0.582771707974516"
      ]
     },
     "execution_count": 93,
     "metadata": {},
     "output_type": "execute_result"
    }
   ],
   "source": [
    "r2_score(y_train, lm.predict(x_train))"
   ]
  },
  {
   "cell_type": "code",
   "execution_count": 94,
   "metadata": {},
   "outputs": [
    {
     "data": {
      "text/plain": [
       "0.5699882080825052"
      ]
     },
     "execution_count": 94,
     "metadata": {},
     "output_type": "execute_result"
    }
   ],
   "source": [
    "r2_score(y_test, lm.predict(x_test))"
   ]
  },
  {
   "cell_type": "code",
   "execution_count": 95,
   "metadata": {},
   "outputs": [
    {
     "data": {
      "text/plain": [
       "0.998556478870423"
      ]
     },
     "execution_count": 95,
     "metadata": {},
     "output_type": "execute_result"
    }
   ],
   "source": [
    "from sklearn.tree import DecisionTreeRegressor \n",
    "regressor = DecisionTreeRegressor(random_state = 0) \n",
    "regressor.fit(x_train, y_train)\n",
    "r2_score(y_test, regressor.predict(x_test))"
   ]
  },
  {
   "cell_type": "code",
   "execution_count": 96,
   "metadata": {},
   "outputs": [
    {
     "data": {
      "text/plain": [
       "1.0"
      ]
     },
     "execution_count": 96,
     "metadata": {},
     "output_type": "execute_result"
    }
   ],
   "source": [
    "r2_score(y_train, regressor.predict(x_train))"
   ]
  },
  {
   "cell_type": "code",
   "execution_count": 97,
   "metadata": {},
   "outputs": [],
   "source": [
    "uv = np.nanpercentile(df2['Base MSRP'], [99])[0]*2"
   ]
  },
  {
   "cell_type": "code",
   "execution_count": 98,
   "metadata": {},
   "outputs": [
    {
     "name": "stderr",
     "output_type": "stream",
     "text": [
      "C:\\Users\\2021\\.conda\\envs\\electricvehiclepriceprediction\\lib\\site-packages\\ipykernel_launcher.py:1: SettingWithCopyWarning: \n",
      "A value is trying to be set on a copy of a slice from a DataFrame\n",
      "\n",
      "See the caveats in the documentation: https://pandas.pydata.org/pandas-docs/stable/user_guide/indexing.html#returning-a-view-versus-a-copy\n",
      "  \"\"\"Entry point for launching an IPython kernel.\n"
     ]
    }
   ],
   "source": [
    "df2['Base MSRP'][(df2['Base MSRP']>uv)] = uv"
   ]
  },
  {
   "cell_type": "code",
   "execution_count": 99,
   "metadata": {},
   "outputs": [
    {
     "name": "stdout",
     "output_type": "stream",
     "text": [
      "['Adams' 'Alameda' 'Albemarle' 'Alexandria City' 'Allegheny' 'Anchorage'\n",
      " 'Anne Arundel' 'Asotin' 'Baltimore' 'Bartow' 'Bell' 'Benton' 'Bexar'\n",
      " 'Bradley' 'Calvert' 'Camden' 'Carroll' 'Carson City' 'Charles' 'Chaves'\n",
      " 'Chelan' 'Chesapeake City' 'Clallam' 'Clark' 'Columbia' 'Coryell'\n",
      " 'Cowlitz' 'Cumberland' 'Danville City' 'Davidson' 'Denton'\n",
      " 'District Of Columbia' 'Douglas' 'Dupage' 'Duval' 'El Paso' 'Erie'\n",
      " 'Fairbanks North Star' 'Fairfax' 'Ferry' 'Flathead' 'Franklin'\n",
      " 'Frederick' 'Garfield' 'Glacier' 'Goochland' 'Grant' 'Grays Harbor'\n",
      " 'Guadalupe' 'Hamilton' 'Harris' 'Harrison' 'Hillsborough' 'Honolulu'\n",
      " 'Howard' 'Hudson' 'Humacao' 'Island' 'Jefferson' 'Kern' 'King' 'Kings'\n",
      " 'Kitsap' 'Kittitas' 'Klamath' 'Klickitat' 'Lake' 'Laramie' 'Leavenworth'\n",
      " 'Lewis' 'Liberty' 'Lincoln' 'Los Angeles' 'Maricopa' 'Marin' 'Mason'\n",
      " 'Mecklenburg' 'Monterey' 'Montgomery' 'Multnomah' 'Muscogee' 'New Castle'\n",
      " 'New London' 'Newport' 'Norfolk City' 'Nueces' 'Okanogan' 'Orange'\n",
      " 'Otero' 'Ozaukee' 'Pacific' 'Passaic' 'Pend Oreille' 'Pennington'\n",
      " 'Philadelphia' 'Pierce' 'Pinellas' 'Placer' 'Plaquemines' 'Platte'\n",
      " 'Powhatan' 'Prince Georges' 'Prince William' 'Queens' 'Riley' 'Riverside'\n",
      " 'Rock Island' 'Sacramento' 'Saint Clair' 'Saint Marys' 'Salt Lake'\n",
      " 'San Bernardino' 'San Diego' 'San Juan' 'Santa Clara' 'Santa Cruz'\n",
      " 'Sarasota' 'Sarpy' 'Skagit' 'Skamania' 'Snohomish' 'Spokane' 'Stafford'\n",
      " 'Stevens' 'Suffolk' 'Thurston' 'Tipton' 'Ventura' 'Virginia Beach City'\n",
      " 'Wahkiakum' 'Wake' 'Walla Walla' 'Washoe' 'Whatcom' 'Whitman' 'Wichita'\n",
      " 'Wilson' 'Yakima' 'Yamhill' nan]\n",
      "['ABERDEEN' 'ACME' 'ADAIRSVILLE' 'ADDY' 'AIRWAY HEIGHTS' 'ALAMEDA'\n",
      " 'ALEXANDRIA' 'ALGONA' 'ALHAMBRA' 'ALISO VIEJO' 'ALLENHURST' 'ALLYN'\n",
      " 'ALMIRA' 'AMANDA PARK' 'AMBOY' 'ANACORTES' 'ANDERSON ISLAND' 'ANNAPOLIS'\n",
      " 'ANTHEM' 'APO' 'APPLE VALLEY' 'ARIEL' 'ARLINGTON' 'ASHFORD' 'ASOTIN'\n",
      " 'ATOKA' 'AUBURN' 'BAINBRIDGE IS' 'BAINBRIDGE ISLAND' 'BARING'\n",
      " 'BATTLE GROUND' 'BAY CENTER' 'BEAUX ARTS' 'BEAVER' 'BELFAIR'\n",
      " 'BELLE CHASSE' 'BELLEVILLE' 'BELLEVUE' 'BELLINGHAM' 'BENTON CITY'\n",
      " 'BETHEL' 'BETHESDA' 'BILOXI' 'BINGEN' 'BLACK DIAMOND' 'BLAINE'\n",
      " 'BONNEY LAKE' 'BOSTON' 'BOTHELL' 'BOW' 'BREMERTON' 'BREWSTER' 'BRIER'\n",
      " 'BRINNON' 'BROOKLYN' 'BROWNING' 'BRUSH PRAIRIE' 'BUCKLEY' 'BUCODA'\n",
      " 'BURBANK' 'BURIEN' 'BURKE' 'BURLINGTON' 'CAMANO ISLAND' 'CAMARILLO'\n",
      " 'CAMAS' 'CARBONADO' 'CARLTON' 'CARMEL' 'CARNATION' 'CARROLLS' 'CARSON'\n",
      " 'CARSON CITY' 'CASHMERE' 'CASTLE ROCK' 'CATHLAMET' 'CEDARBURG'\n",
      " 'CENTERVILLE' 'CENTRALIA' 'CHARLOTTE' 'CHARLOTTESVILLE' 'CHATTAROY'\n",
      " 'CHEHALIS' 'CHELAN' 'CHENEY' 'CHESAPEAKE' 'CHESAPEAKE BEACH' 'CHEWELAH'\n",
      " 'CHEYENNE' 'CHIMACUM' 'CHINO' 'CHINOOK' 'CHUGIAK' 'CHULA VISTA' 'CINEBAR'\n",
      " 'CLALLAM BAY' 'CLARKSTON' 'CLAYMONT' 'CLAYTON' 'CLE ELUM' 'CLEARLAKE'\n",
      " 'CLEVELAND' 'CLINTON' 'CLYDE HILL' 'COLBERT' 'COLFAX' 'COLLEGE PLACE'\n",
      " 'COLUMBUS' 'COLVILLE' 'CONCRETE' 'CONNELL' 'COOK' 'COPALIS BEACH'\n",
      " 'COPALIS CROSSING' 'CORONADO' 'CORPUS CHRISTI' 'COSMOPOLIS' 'COSTA MESA'\n",
      " 'COUGAR' 'COULEE CITY' 'COULEE DAM' 'COUPEVILLE' 'COVINGTON' 'CRESTON'\n",
      " 'CURLEW' 'CURTIS' 'CUSICK' 'CUSTER' 'DALLESPORT' 'DANVILLE' 'DARRINGTON'\n",
      " 'DAVENPORT' 'DAYTON' 'DEER HARBOR' 'DEER PARK' 'DEMING' 'DES MOINES'\n",
      " 'DESERT AIRE' 'DORCHESTER' 'DUPONT' 'DUVALL' 'EAST WENATCHEE' 'EASTON'\n",
      " 'EASTSOUND' 'EATONVILLE' 'EDGEWOOD' 'EDMONDS' 'EDWALL' 'EL PASO'\n",
      " 'ELECTRIC CITY' 'ELK' 'ELKTON' 'ELLENSBURG' 'ELMA' 'ELTOPIA' 'ENDICOTT'\n",
      " 'ENTIAT' 'ENUMCLAW' 'EPHRATA' 'ETHEL' 'EVANS' 'EVERETT' 'EVERSON'\n",
      " 'EWA BEACH' 'FAIRBANKS' 'FAIRCHILD AIR FORCE BASE' 'FAIRFAX' 'FAIRFIELD'\n",
      " 'FALL CITY' 'FAYETTEVILLE' 'FEDERAL WAY' 'FERNDALE' 'FIFE' 'FIRCREST'\n",
      " 'FORD' 'FOREST PARK' 'FORKS' 'FORT BELVOIR' 'FORT WASHINGTON'\n",
      " 'FOX ISLAND' 'FPO' 'FREDERICK' 'FREELAND' 'FRIDAY HARBOR' 'FRUITLAND'\n",
      " 'GAITHERSBURG' 'GAMBRILLS' 'GARDENA' 'GARFIELD' 'GIFFORD' 'GIG HARBOR'\n",
      " 'GLENELG' 'GLENWOOD' 'GOLD BAR' 'GOLDENDALE' 'GRAHAM' 'GRAND COULEE'\n",
      " 'GRAND ISLAND' 'GRANDVIEW' 'GRANGER' 'GRANITE FALLS' 'GRAPEVIEW'\n",
      " 'GRAYLAND' 'GREENACRES' 'GREENBANK' 'GROTON' 'HANSVILLE' 'HARKER HEIGHTS'\n",
      " 'HARRINGTON' 'HIGHLAND PARK' 'HOLLOMAN AIR FORCE BASE' 'HONOLULU'\n",
      " 'HOODSPORT' 'HOQUIAM' 'HOUSTON' 'HUGHESVILLE' 'HUNTS POINT' 'HUSUM'\n",
      " 'ILWACO' 'INCHELIUM' 'INDIAN WELLS' 'INDIANOLA' 'IONE' 'ISSAQUAH'\n",
      " 'JACKSONVILLE' 'JAMAICA' 'JBLM' 'JOINT BASE LEWIS MCCHORD' 'KAILUA'\n",
      " 'KALAMA' 'KELSO' 'KENMORE' 'KENNEWICK' 'KENT' 'KETTLE FALLS' 'KEYPORT'\n",
      " 'KINGSTON' 'KIRKLAND' 'KITTITAS' 'KLAMATH FALLS' 'KOKOMO' 'LA CENTER'\n",
      " 'LA CONNER' 'LACEY' 'LAKE FOREST PARK' 'LAKE STEVENS' 'LAKE TAPPS'\n",
      " 'LAKEBAY' 'LAKESIDE' 'LAKEWOOD' 'LAMONT' 'LANGLEY' 'LANSING' 'LAS VEGAS'\n",
      " 'LAUGHLIN' 'LAYTONSVILLE' 'LEAVENWORTH' 'LEMOORE' 'LEXINGTON PK'\n",
      " 'LIBERTY LAKE' 'LILLIWAUP' 'LITTLE ELM' 'LITTLEROCK' 'LONG BEACH'\n",
      " 'LONGBRANCH' 'LONGVIEW' 'LOON LAKE' 'LOPEZ ISLAND' 'LUMMI ISLAND' 'LYLE'\n",
      " 'LYNDEN' 'LYNNWOOD' 'MABTON' 'MAITLAND' 'MALAGA' 'MANHATTAN' 'MANSON'\n",
      " 'MAPLE FALLS' 'MAPLE VALLEY' 'MARBLEMOUNT' 'MARYSVILLE' 'MATTAWA'\n",
      " 'MAZAMA' 'MCCHORD AFB' 'MCCLEARY' 'MEAD' 'MEDICAL LAKE' 'MEDINA'\n",
      " 'MERCER ISLAND' 'MESA' 'METHOW' 'MICA' 'MIDDLETOWN' 'MILL CREEK'\n",
      " 'MILLWOOD' 'MILTON' 'MINERAL' 'MOCLIPS' 'MONROE' 'MONTEREY' 'MONTESANO'\n",
      " 'MORTON' 'MOSES LAKE' 'MOSSYROCK' 'MOUNT VERNON' 'MOUNTLAKE TERRACE'\n",
      " 'MOXEE' 'MUKILTEO' 'NACHES' 'NAPAVINE' 'NASELLE' 'NASHVILLE' 'NEAH BAY'\n",
      " 'NEWBERG' 'NEWCASTLE' 'NEWMAN LAKE' 'NEWPORT' 'NEWPORT BEACH'\n",
      " 'NINE MILE FALLS' 'NOOKSACK' 'NORDLAND' 'NORFOLK' 'NORMANDY PARK'\n",
      " 'NORRISTOWN' 'NORTH BEND' 'NORTH BONNEVILLE' 'OAK HARBOR' 'OAK RIDGE'\n",
      " 'OAKVILLE' 'OCEAN CITY' 'OCEAN PARK' 'OCEAN SHORES' 'OCEANSIDE'\n",
      " 'OKANOGAN' 'OLALLA' 'OLD LYME' 'OLGA' 'OLYMPIA' 'OMAHA' 'OMAK' 'ONALASKA'\n",
      " 'ORCAS' 'ORONDO' 'OROVILLE' 'ORTING' 'OTHELLO' 'OTIS ORCHARDS' 'OUTLOOK'\n",
      " 'OYSTERVILLE' 'PACIFIC' 'PACIFIC BEACH' 'PACKWOOD' 'PALISADES'\n",
      " 'PALM HARBOR' 'PALO ALTO' 'PALOUSE' 'PAPILLION' 'PASADENA' 'PASCO'\n",
      " 'PAWCATUCK' 'PESHASTIN' 'PHILADELPHIA' 'PLATTE CITY' 'POINT ROBERTS'\n",
      " 'POMEROY' 'PORT ANGELES' 'PORT HADLOCK' 'PORT HUENEME' 'PORT LUDLOW'\n",
      " 'PORT ORCHARD' 'PORT TOWNSEND' 'PORTLAND' 'POTOMAC' 'POULSBO' 'POWHATAN'\n",
      " 'PRESCOTT' 'PRESTON' 'PROSSER' 'PULLMAN' 'PURMELA' 'PUYALLUP'\n",
      " 'QUIL CEDA VILLAGE' 'QUILCENE' 'QUINCY' 'RAINIER' 'RALEIGH' 'RANDLE'\n",
      " 'RAPID CITY' 'RAVENSDALE' 'RAYMOND' 'REARDAN' 'REDMOND' 'RENO' 'RENTON'\n",
      " 'REPUBLIC' 'RICE' 'RICHLAND' 'RICHMOND' 'RIDGECREST' 'RIDGEFIELD'\n",
      " 'RIO GRANDE' 'RITZVILLE' 'RIVERSIDE' 'ROCHE HARBOR' 'ROCHESTER'\n",
      " 'ROCK ISLAND' 'ROCKFORD' 'RONALD' 'ROOSEVELT' 'ROSALIA' 'ROSEVILLE'\n",
      " 'ROSLYN' 'ROSWELL' 'ROY' 'ROYAL CITY' 'RUSKIN' 'RUSTON' 'SACRAMENTO'\n",
      " 'SAINT JOHN' 'SAINT MARYS' 'SALKUM' 'SAMMAMISH' 'SAN ANTONIO' 'SAN DIEGO'\n",
      " 'SAN JOSE' 'SAN PEDRO' 'SAN RAFAEL' 'SANTA CRUZ' 'SARASOTA' 'SATSOP'\n",
      " 'SCHERTZ' 'SEABECK' 'SEATAC' 'SEATTLE' 'SEAVIEW' 'SECAUCUS'\n",
      " 'SEDRO WOOLLEY' 'SEKIU' 'SELAH' 'SEQUIM' 'SEVEN BAYS' 'SHAW ISLAND'\n",
      " 'SHELTON' 'SHORELINE' 'SILVER CREEK' 'SILVERDALE' 'SILVERLAKE'\n",
      " 'SKAMOKAWA' 'SKOKOMISH NATION' 'SKYKOMISH' 'SNOHOMISH' 'SNOQUALMIE'\n",
      " 'SNOQUALMIE PASS' 'SOAP LAKE' 'SOUTH BEND' 'SOUTH HILL' 'SOUTH PRAIRIE'\n",
      " 'SOUTHWORTH' 'SPANAWAY' 'SPANGLE' 'SPARKS GLENCOE' 'SPOKANE'\n",
      " 'SPOKANE VALLEY' 'SPRINGDALE' 'STAFFORD' 'STANWOOD' 'STEILACOOM'\n",
      " 'STEVENSON' 'SULTAN' 'SUMAS' 'SUMNER' 'SUNNYSIDE' 'SUQUAMISH' 'TACOMA'\n",
      " 'TAHOLAH' 'TAHUYA' 'TEKOA' 'TENINO' 'THORP' 'TIETON' 'TOKELAND' 'TOLEDO'\n",
      " 'TONASKET' 'TOPPENISH' 'TOUCHET' 'TOWNSEND' 'TROUT LAKE' 'TUKWILA'\n",
      " 'TULALIP' 'TUMTUM' 'TUMWATER' 'TWISP' 'UNDERWOOD' 'UNION' 'UNION GAP'\n",
      " 'UNIVERSITY PLACE' 'VADER' 'VALLEY' 'VALLEYFORD' 'VANCOUVER' 'VASHON'\n",
      " 'VAUGHN' 'VERADALE' 'VIENNA' 'VIRGINIA BEACH' 'VISTA' 'WAHKIACUS'\n",
      " 'WAITSBURG' 'WALDORF' 'WALDRON' 'WALLA WALLA' 'WAPATO' 'WARDEN'\n",
      " 'WASHINGTON' 'WASHOUGAL' 'WATERVILLE' 'WELLPINIT' 'WENATCHEE'\n",
      " 'WEST RICHLAND' 'WEST VALLEY' 'WESTMINSTER' 'WESTMONT' 'WESTPORT'\n",
      " 'WEXFORD' 'WHITE SALMON' 'WHITE SWAN' 'WHITEFISH' 'WICHITA FALLS'\n",
      " 'WILBUR' 'WILKESON' 'WILSON' 'WINCHESTER' 'WINLOCK' 'WINTHROP' 'WISHRAM'\n",
      " 'WOODBRIDGE' 'WOODINVILLE' 'WOODLAND' 'WOODWAY' 'YACOLT' 'YAKIMA'\n",
      " 'YARROW POINT' 'YELM' 'ZILLAH' nan]\n",
      "['AE' 'AK' 'AP' 'AZ' 'CA' 'CT' 'DC' 'DE' 'FL' 'GA' 'HI' 'IL' 'IN' 'KS'\n",
      " 'LA' 'MA' 'MD' 'MO' 'MS' 'MT' 'NC' 'NE' 'NJ' 'NM' 'NV' 'NY' 'OR' 'PA'\n",
      " 'PR' 'RI' 'SD' 'TN' 'TX' 'UT' 'VA' 'WA' 'WI' 'WY']\n",
      "[  745.  2124.  2127.  2842.  6340.  6371.  6379.  7094.  7438.  9751.\n",
      " 11201. 11436. 14072. 15090. 19034. 19122. 19403. 19703. 20002. 20009.\n",
      " 20024. 20603. 20637. 20653. 20732. 20744. 20814. 20854. 20878. 20882.\n",
      " 21054. 21122. 21152. 21157. 21401. 21701. 21704. 21737. 22015. 22032.\n",
      " 22060. 22180. 22191. 22193. 22301. 22308. 22312. 22314. 22554. 22911.\n",
      " 23139. 23238. 23321. 23324. 23464. 23517. 24541. 27601. 27893. 28208.\n",
      " 28305. 28311. 30103. 31301. 31558. 31909. 32226. 32751. 33570. 34242.\n",
      " 34685. 37221. 37323. 38004. 39531. 46032. 46901. 53012. 57701. 59417.\n",
      " 59937. 60035. 60559. 61201. 62220. 64079. 66043. 66503. 68102. 68133.\n",
      " 68135. 70037. 75068. 76310. 76548. 76566. 77042. 78154. 78214. 78251.\n",
      " 78405. 79911. 82001. 84128. 85086. 88201. 88330. 89029. 89107. 89138.\n",
      " 89521. 89706. 90249. 90732. 90802. 91708. 91801. 91913. 92040. 92056.\n",
      " 92058. 92081. 92101. 92102. 92106. 92109. 92118. 92123. 92124. 92127.\n",
      " 92130. 92210. 92308. 92596. 92626. 92656. 92660. 93010. 93041. 93245.\n",
      " 93555. 93940. 94303. 94501. 94901. 95062. 95134. 95747. 95817. 96349.\n",
      " 96662. 96678. 96706. 96734. 96814. 96817. 97132. 97202. 97214. 97239.\n",
      " 97436. 97601. 98001. 98002. 98003. 98004. 98005. 98006. 98007. 98008.\n",
      " 98010. 98011. 98012. 98014. 98015. 98019. 98020. 98021. 98022. 98023.\n",
      " 98024. 98026. 98027. 98028. 98029. 98030. 98031. 98032. 98033. 98034.\n",
      " 98036. 98037. 98038. 98039. 98040. 98042. 98043. 98045. 98047. 98050.\n",
      " 98051. 98052. 98053. 98055. 98056. 98057. 98058. 98059. 98065. 98068.\n",
      " 98070. 98072. 98074. 98075. 98077. 98082. 98083. 98087. 98092. 98101.\n",
      " 98102. 98103. 98104. 98105. 98106. 98107. 98108. 98109. 98110. 98112.\n",
      " 98115. 98116. 98117. 98118. 98119. 98121. 98122. 98124. 98125. 98126.\n",
      " 98133. 98134. 98136. 98144. 98146. 98148. 98155. 98158. 98164. 98166.\n",
      " 98168. 98177. 98178. 98188. 98198. 98199. 98201. 98203. 98204. 98206.\n",
      " 98207. 98208. 98220. 98221. 98223. 98224. 98225. 98226. 98227. 98229.\n",
      " 98230. 98232. 98233. 98235. 98236. 98237. 98239. 98240. 98241. 98243.\n",
      " 98244. 98245. 98247. 98248. 98249. 98250. 98251. 98252. 98253. 98257.\n",
      " 98258. 98260. 98261. 98262. 98264. 98266. 98267. 98270. 98271. 98272.\n",
      " 98273. 98274. 98275. 98276. 98277. 98278. 98279. 98280. 98281. 98282.\n",
      " 98284. 98286. 98288. 98290. 98292. 98294. 98295. 98296. 98297. 98303.\n",
      " 98304. 98305. 98310. 98311. 98312. 98314. 98315. 98320. 98321. 98323.\n",
      " 98325. 98326. 98327. 98328. 98329. 98331. 98332. 98333. 98335. 98337.\n",
      " 98338. 98339. 98340. 98342. 98345. 98346. 98349. 98351. 98354. 98355.\n",
      " 98356. 98357. 98358. 98359. 98360. 98361. 98362. 98363. 98365. 98366.\n",
      " 98367. 98368. 98370. 98371. 98372. 98373. 98374. 98375. 98376. 98377.\n",
      " 98380. 98381. 98382. 98383. 98385. 98386. 98387. 98388. 98390. 98391.\n",
      " 98392. 98394. 98396. 98402. 98403. 98404. 98405. 98406. 98407. 98408.\n",
      " 98409. 98418. 98421. 98422. 98424. 98431. 98433. 98438. 98439. 98443.\n",
      " 98444. 98445. 98446. 98465. 98466. 98467. 98498. 98499. 98501. 98502.\n",
      " 98503. 98504. 98506. 98507. 98508. 98512. 98513. 98516. 98520. 98524.\n",
      " 98526. 98527. 98528. 98530. 98531. 98532. 98533. 98535. 98536. 98537.\n",
      " 98538. 98541. 98542. 98546. 98547. 98548. 98550. 98555. 98556. 98557.\n",
      " 98562. 98563. 98564. 98565. 98568. 98569. 98570. 98571. 98576. 98577.\n",
      " 98579. 98580. 98582. 98583. 98584. 98585. 98586. 98587. 98588. 98589.\n",
      " 98590. 98591. 98592. 98593. 98595. 98596. 98597. 98601. 98603. 98604.\n",
      " 98605. 98606. 98607. 98609. 98610. 98611. 98612. 98613. 98614. 98616.\n",
      " 98617. 98619. 98620. 98623. 98624. 98625. 98626. 98629. 98631. 98632.\n",
      " 98635. 98638. 98639. 98640. 98641. 98642. 98644. 98645. 98647. 98648.\n",
      " 98650. 98651. 98660. 98661. 98662. 98663. 98664. 98665. 98670. 98671.\n",
      " 98672. 98673. 98674. 98675. 98682. 98683. 98684. 98685. 98686. 98801.\n",
      " 98802. 98810. 98812. 98814. 98815. 98816. 98822. 98823. 98826. 98828.\n",
      " 98831. 98833. 98834. 98837. 98840. 98841. 98843. 98844. 98845. 98847.\n",
      " 98848. 98849. 98850. 98851. 98855. 98856. 98857. 98858. 98862. 98901.\n",
      " 98902. 98903. 98908. 98922. 98925. 98926. 98930. 98932. 98934. 98935.\n",
      " 98936. 98937. 98938. 98940. 98941. 98942. 98944. 98946. 98947. 98948.\n",
      " 98951. 98952. 98953. 99001. 99003. 99004. 99005. 99006. 99008. 99009.\n",
      " 99011. 99012. 99013. 99016. 99017. 99019. 99021. 99022. 99023. 99025.\n",
      " 99026. 99027. 99029. 99030. 99031. 99033. 99034. 99036. 99037. 99040.\n",
      " 99101. 99103. 99109. 99110. 99111. 99114. 99115. 99116. 99118. 99119.\n",
      " 99122. 99123. 99125. 99126. 99129. 99130. 99131. 99133. 99134. 99138.\n",
      " 99139. 99141. 99147. 99148. 99156. 99161. 99163. 99164. 99166. 99167.\n",
      " 99169. 99170. 99171. 99173. 99181. 99185. 99201. 99202. 99203. 99204.\n",
      " 99205. 99206. 99207. 99208. 99212. 99216. 99217. 99218. 99223. 99224.\n",
      " 99301. 99320. 99323. 99324. 99326. 99328. 99330. 99336. 99337. 99338.\n",
      " 99343. 99344. 99347. 99348. 99349. 99350. 99352. 99353. 99354. 99356.\n",
      " 99357. 99360. 99361. 99362. 99402. 99403. 99567. 99701.    nan]\n",
      "[1993. 1998. 1999. 2000. 2002. 2008. 2010. 2011. 2012. 2013. 2014. 2015.\n",
      " 2016. 2017. 2018. 2019. 2020. 2021. 2022.]\n",
      "['AUDI' 'AZURE DYNAMICS' 'BENTLEY' 'BMW' 'CADILLAC' 'CHEVROLET' 'CHRYSLER'\n",
      " 'DODGE' 'FIAT' 'FISKER' 'FORD' 'HONDA' 'HYUNDAI' 'JAGUAR' 'JEEP' 'KIA'\n",
      " 'LAND ROVER' 'LINCOLN' 'LUCID MOTORS' 'MERCEDES-BENZ' 'MINI' 'MITSUBISHI'\n",
      " 'NISSAN' 'POLESTAR' 'PORSCHE' 'RIVIAN' 'SMART' 'SUBARU' 'TESLA' 'TH!NK'\n",
      " 'TOYOTA' 'VOLKSWAGEN' 'VOLVO' 'WHEEGO ELECTRIC CARS']\n",
      "['$16.36K' '330E' '500' '530E' '530E XDRIVE' '740E XDRIVE' '745E'\n",
      " '918 SPYDER' 'A3' 'A7' 'A8 E' 'ACCORD' 'AVIATOR' 'B-CLASS' 'BENTAYGA'\n",
      " 'BOLT EV' 'C-CLASS' 'C-MAX' 'C40' 'CARAVAN' 'CAYENNE' 'CITY' 'CLARITY'\n",
      " 'CORSAIR' 'COUNTRYMAN' 'CROSSTREK HYBRID AWD' 'CT6' 'E-GOLF' 'E-TRON'\n",
      " 'E-TRON SPORTBACK' 'ELR' 'EQ FORTWO' 'EQS-CLASS' 'ESCAPE' 'EV6' 'F-150'\n",
      " 'FOCUS' 'FORTWO' 'FORTWO ELECTRIC DRIVE' 'FUSION' 'GLC-CLASS' 'GLE-CLASS'\n",
      " 'HARDTOP' 'I-MIEV' 'I-PACE' 'I3' 'I8' 'ID.4' 'IONIQ' 'IONIQ 5' 'KARMA'\n",
      " 'KONA' 'KONA ELECTRIC' 'LEAF' 'LIFE' 'LUCID AIR' 'MACH-E' 'MODEL 3'\n",
      " 'MODEL S' 'MODEL X' 'MODEL Y' 'NIRO' 'NIRO ELECTRIC'\n",
      " 'NIRO PLUG-IN HYBRID' 'OPTIMA' 'OPTIMA PLUG-IN HYBRID' 'OUTLANDER'\n",
      " 'PACIFICA' 'PANAMERA' 'PRIUS PLUG-IN' 'PRIUS PLUG-IN HYBRID'\n",
      " 'PRIUS PRIME' 'PS2' 'Q5' 'Q5 E' 'R1T' 'RANGE ROVER' 'RANGE ROVER SPORT'\n",
      " 'RANGER' 'RAV4' 'RAV4 PRIME' 'ROADSTER' 'RS E-TRON' 'S-CLASS' 'S60' 'S90'\n",
      " 'SANTA FE' 'SONATA' 'SONATA PLUG-IN HYBRID' 'SORENTO' 'SOUL' 'SOUL EV'\n",
      " 'SPARK' 'TAYCAN' 'TRANSIT CONNECT ELECTRIC' 'TUCSON' 'VOLT' 'WRANGLER'\n",
      " 'X3' 'X5' 'XC40' 'XC60' 'XC60 AWD' 'XC60 AWD PHEV' 'XC90' 'XC90 AWD'\n",
      " 'XC90 AWD PHEV']\n",
      "['Battery Electric Vehicle (BEV)' 'Plug-in Hybrid Electric Vehicle (PHEV)']\n",
      "['Clean Alternative Fuel Vehicle Eligible'\n",
      " 'Eligibility unknown as battery range has not been researched'\n",
      " 'Not eligible due to low battery range']\n"
     ]
    }
   ],
   "source": [
    "# # New Code Added From Gemini\n",
    "# df2 = df2[df2['Base MSRP'] != 'N/']\n",
    "# df2['Base MSRP'].replace('N/', df2['Base MSRP'].mean())  # Replace with mean\n",
    "\n",
    "# # # New Code Added From Gemini\n",
    "# import pandas as pd\n",
    "\n",
    "# # Assuming your data is in a pandas dataframe called 'df'\n",
    "# df = df[df['Model Year'] != 'N/']  # Filter out rows where 'Model Year' is 'N/'\n",
    "\n",
    "# for col in cols:\n",
    "#     le.fit(df[col])\n",
    "#     df2[col] = le.transform(df2[col]) \n",
    "#     print(le.classes_)\n",
    "\n",
    "# # # New Code Added From Gemini\n",
    "# for col in cols:\n",
    "#     df2[col] = df2[col].replace('N/', -1)  # Replace 'N/' with -1\n",
    "#     le.fit(df2[col])\n",
    "#     df2[col] = le.transform(df2[col]) \n",
    "#     print(le.classes_)\n",
    "\n",
    "\n",
    "# # New Code Added From Gemini\n",
    "# Assuming your data is in a pandas dataframe called 'df'\n",
    "df2 = df2[df2['Model Year'] != 'N/']  # Filter out rows where 'Model Year' is 'N/'\n",
    "\n",
    "for col in cols:\n",
    "    df2[col] = df2[col].replace('N/', -1)\n",
    "    le.fit(df2[col])\n",
    "    df2[col] = le.transform(df2[col]) \n",
    "    print(le.classes_)"
   ]
  },
  {
   "cell_type": "code",
   "execution_count": 100,
   "metadata": {},
   "outputs": [],
   "source": [
    "le = preprocessing.LabelEncoder()"
   ]
  },
  {
   "cell_type": "code",
   "execution_count": 101,
   "metadata": {},
   "outputs": [],
   "source": [
    "cols = ['County', 'City', 'State', 'ZIP Code', 'Model Year', 'Make', 'Model', 'Electric Vehicle Type', 'Clean Alternative Fuel Vehicle (CAFV) Eligibility']"
   ]
  },
  {
   "cell_type": "code",
   "execution_count": 104,
   "metadata": {},
   "outputs": [
    {
     "name": "stdout",
     "output_type": "stream",
     "text": [
      "County\n"
     ]
    },
    {
     "ename": "TypeError",
     "evalue": "ufunc 'isnan' not supported for the input types, and the inputs could not be safely coerced to any supported types according to the casting rule ''safe''",
     "output_type": "error",
     "traceback": [
      "\u001b[1;31m---------------------------------------------------------------------------\u001b[0m",
      "\u001b[1;31mTypeError\u001b[0m                                 Traceback (most recent call last)",
      "\u001b[1;32m~\\AppData\\Local\\Temp\\ipykernel_6120\\301876704.py\u001b[0m in \u001b[0;36m<module>\u001b[1;34m\u001b[0m\n\u001b[0;32m      4\u001b[0m \u001b[1;31m#     New line ends here\u001b[0m\u001b[1;33m\u001b[0m\u001b[1;33m\u001b[0m\u001b[1;33m\u001b[0m\u001b[0m\n\u001b[0;32m      5\u001b[0m     \u001b[0mle\u001b[0m\u001b[1;33m.\u001b[0m\u001b[0mfit\u001b[0m\u001b[1;33m(\u001b[0m\u001b[0mt\u001b[0m\u001b[1;33m[\u001b[0m\u001b[0mcol\u001b[0m\u001b[1;33m]\u001b[0m\u001b[1;33m)\u001b[0m\u001b[1;33m\u001b[0m\u001b[1;33m\u001b[0m\u001b[0m\n\u001b[1;32m----> 6\u001b[1;33m     \u001b[0mdf2\u001b[0m\u001b[1;33m[\u001b[0m\u001b[0mcol\u001b[0m\u001b[1;33m]\u001b[0m \u001b[1;33m=\u001b[0m \u001b[0mle\u001b[0m\u001b[1;33m.\u001b[0m\u001b[0mtransform\u001b[0m\u001b[1;33m(\u001b[0m\u001b[0mdf2\u001b[0m\u001b[1;33m[\u001b[0m\u001b[0mcol\u001b[0m\u001b[1;33m]\u001b[0m\u001b[1;33m)\u001b[0m\u001b[1;33m\u001b[0m\u001b[1;33m\u001b[0m\u001b[0m\n\u001b[0m\u001b[0;32m      7\u001b[0m     \u001b[0mprint\u001b[0m\u001b[1;33m(\u001b[0m\u001b[0mle\u001b[0m\u001b[1;33m.\u001b[0m\u001b[0mclasses_\u001b[0m\u001b[1;33m)\u001b[0m\u001b[1;33m\u001b[0m\u001b[1;33m\u001b[0m\u001b[0m\n\u001b[0;32m      8\u001b[0m \u001b[1;33m\u001b[0m\u001b[0m\n",
      "\u001b[1;32m~\\.conda\\envs\\electricvehiclepriceprediction\\lib\\site-packages\\sklearn\\preprocessing\\_label.py\u001b[0m in \u001b[0;36mtransform\u001b[1;34m(self, y)\u001b[0m\n\u001b[0;32m    136\u001b[0m             \u001b[1;32mreturn\u001b[0m \u001b[0mnp\u001b[0m\u001b[1;33m.\u001b[0m\u001b[0marray\u001b[0m\u001b[1;33m(\u001b[0m\u001b[1;33m[\u001b[0m\u001b[1;33m]\u001b[0m\u001b[1;33m)\u001b[0m\u001b[1;33m\u001b[0m\u001b[1;33m\u001b[0m\u001b[0m\n\u001b[0;32m    137\u001b[0m \u001b[1;33m\u001b[0m\u001b[0m\n\u001b[1;32m--> 138\u001b[1;33m         \u001b[1;32mreturn\u001b[0m \u001b[0m_encode\u001b[0m\u001b[1;33m(\u001b[0m\u001b[0my\u001b[0m\u001b[1;33m,\u001b[0m \u001b[0muniques\u001b[0m\u001b[1;33m=\u001b[0m\u001b[0mself\u001b[0m\u001b[1;33m.\u001b[0m\u001b[0mclasses_\u001b[0m\u001b[1;33m)\u001b[0m\u001b[1;33m\u001b[0m\u001b[1;33m\u001b[0m\u001b[0m\n\u001b[0m\u001b[0;32m    139\u001b[0m \u001b[1;33m\u001b[0m\u001b[0m\n\u001b[0;32m    140\u001b[0m     \u001b[1;32mdef\u001b[0m \u001b[0minverse_transform\u001b[0m\u001b[1;33m(\u001b[0m\u001b[0mself\u001b[0m\u001b[1;33m,\u001b[0m \u001b[0my\u001b[0m\u001b[1;33m)\u001b[0m\u001b[1;33m:\u001b[0m\u001b[1;33m\u001b[0m\u001b[1;33m\u001b[0m\u001b[0m\n",
      "\u001b[1;32m~\\.conda\\envs\\electricvehiclepriceprediction\\lib\\site-packages\\sklearn\\utils\\_encode.py\u001b[0m in \u001b[0;36m_encode\u001b[1;34m(values, uniques, check_unknown)\u001b[0m\n\u001b[0;32m    185\u001b[0m     \u001b[1;32melse\u001b[0m\u001b[1;33m:\u001b[0m\u001b[1;33m\u001b[0m\u001b[1;33m\u001b[0m\u001b[0m\n\u001b[0;32m    186\u001b[0m         \u001b[1;32mif\u001b[0m \u001b[0mcheck_unknown\u001b[0m\u001b[1;33m:\u001b[0m\u001b[1;33m\u001b[0m\u001b[1;33m\u001b[0m\u001b[0m\n\u001b[1;32m--> 187\u001b[1;33m             \u001b[0mdiff\u001b[0m \u001b[1;33m=\u001b[0m \u001b[0m_check_unknown\u001b[0m\u001b[1;33m(\u001b[0m\u001b[0mvalues\u001b[0m\u001b[1;33m,\u001b[0m \u001b[0muniques\u001b[0m\u001b[1;33m)\u001b[0m\u001b[1;33m\u001b[0m\u001b[1;33m\u001b[0m\u001b[0m\n\u001b[0m\u001b[0;32m    188\u001b[0m             \u001b[1;32mif\u001b[0m \u001b[0mdiff\u001b[0m\u001b[1;33m:\u001b[0m\u001b[1;33m\u001b[0m\u001b[1;33m\u001b[0m\u001b[0m\n\u001b[0;32m    189\u001b[0m                 \u001b[1;32mraise\u001b[0m \u001b[0mValueError\u001b[0m\u001b[1;33m(\u001b[0m\u001b[1;34mf\"y contains previously unseen labels: {str(diff)}\"\u001b[0m\u001b[1;33m)\u001b[0m\u001b[1;33m\u001b[0m\u001b[1;33m\u001b[0m\u001b[0m\n",
      "\u001b[1;32m~\\.conda\\envs\\electricvehiclepriceprediction\\lib\\site-packages\\sklearn\\utils\\_encode.py\u001b[0m in \u001b[0;36m_check_unknown\u001b[1;34m(values, known_values, return_mask)\u001b[0m\n\u001b[0;32m    259\u001b[0m \u001b[1;33m\u001b[0m\u001b[0m\n\u001b[0;32m    260\u001b[0m         \u001b[1;31m# check for nans in the known_values\u001b[0m\u001b[1;33m\u001b[0m\u001b[1;33m\u001b[0m\u001b[1;33m\u001b[0m\u001b[0m\n\u001b[1;32m--> 261\u001b[1;33m         \u001b[1;32mif\u001b[0m \u001b[0mnp\u001b[0m\u001b[1;33m.\u001b[0m\u001b[0misnan\u001b[0m\u001b[1;33m(\u001b[0m\u001b[0mknown_values\u001b[0m\u001b[1;33m)\u001b[0m\u001b[1;33m.\u001b[0m\u001b[0many\u001b[0m\u001b[1;33m(\u001b[0m\u001b[1;33m)\u001b[0m\u001b[1;33m:\u001b[0m\u001b[1;33m\u001b[0m\u001b[1;33m\u001b[0m\u001b[0m\n\u001b[0m\u001b[0;32m    262\u001b[0m             \u001b[0mdiff_is_nan\u001b[0m \u001b[1;33m=\u001b[0m \u001b[0mnp\u001b[0m\u001b[1;33m.\u001b[0m\u001b[0misnan\u001b[0m\u001b[1;33m(\u001b[0m\u001b[0mdiff\u001b[0m\u001b[1;33m)\u001b[0m\u001b[1;33m\u001b[0m\u001b[1;33m\u001b[0m\u001b[0m\n\u001b[0;32m    263\u001b[0m             \u001b[1;32mif\u001b[0m \u001b[0mdiff_is_nan\u001b[0m\u001b[1;33m.\u001b[0m\u001b[0many\u001b[0m\u001b[1;33m(\u001b[0m\u001b[1;33m)\u001b[0m\u001b[1;33m:\u001b[0m\u001b[1;33m\u001b[0m\u001b[1;33m\u001b[0m\u001b[0m\n",
      "\u001b[1;31mTypeError\u001b[0m: ufunc 'isnan' not supported for the input types, and the inputs could not be safely coerced to any supported types according to the casting rule ''safe''"
     ]
    }
   ],
   "source": [
    "for col in cols:\n",
    "#     New line added as suggested by rehaqds\n",
    "    print(col)\n",
    "#     New line ends here\n",
    "    le.fit(t[col])\n",
    "    df2[col] = le.transform(df2[col]) \n",
    "    print(le.classes_)\n",
    "\n",
    "# New Code Added from Gemini to Fix this isse:\n",
    "# TypeError: ufunc 'isnan' not supported for the input types, and the inputs could not be safely coerced to any supported types according to the casting rule ''safe''    \n",
    "    \n",
    "# le = preprocessing.LabelEncoder()\n",
    "# for col in cols:\n",
    "#   le.fit(t[col])\n",
    "#   df2[col] = le.transform(df2[col]) \n",
    "#   print(le.classes_)"
   ]
  },
  {
   "cell_type": "code",
   "execution_count": 416,
   "metadata": {},
   "outputs": [
    {
     "data": {
      "text/plain": [
       "DecisionTreeRegressor(random_state=0)"
      ]
     },
     "execution_count": 416,
     "metadata": {},
     "output_type": "execute_result"
    }
   ],
   "source": [
    "regressor.fit(x, y)"
   ]
  },
  {
   "cell_type": "code",
   "execution_count": 417,
   "metadata": {},
   "outputs": [
    {
     "name": "stderr",
     "output_type": "stream",
     "text": [
      "C:\\Users\\2021\\.conda\\envs\\electricvehiclepriceprediction\\lib\\site-packages\\sklearn\\base.py:493: FutureWarning: The feature names should match those that were passed during fit. Starting version 1.2, an error will be raised.\n",
      "Feature names unseen at fit time:\n",
      "- Expected Price ($1k)\n",
      "Feature names must be in the same order as they were in fit.\n",
      "\n",
      "  warnings.warn(message, FutureWarning)\n"
     ]
    },
    {
     "ename": "ValueError",
     "evalue": "could not convert string to float: 'N/'",
     "output_type": "error",
     "traceback": [
      "\u001b[1;31m---------------------------------------------------------------------------\u001b[0m",
      "\u001b[1;31mValueError\u001b[0m                                Traceback (most recent call last)",
      "\u001b[1;32m~\\AppData\\Local\\Temp\\ipykernel_16424\\818753220.py\u001b[0m in \u001b[0;36m<module>\u001b[1;34m\u001b[0m\n\u001b[1;32m----> 1\u001b[1;33m \u001b[0mp\u001b[0m \u001b[1;33m=\u001b[0m \u001b[0mregressor\u001b[0m\u001b[1;33m.\u001b[0m\u001b[0mpredict\u001b[0m\u001b[1;33m(\u001b[0m\u001b[0mdf2\u001b[0m\u001b[1;33m)\u001b[0m\u001b[1;33m\u001b[0m\u001b[1;33m\u001b[0m\u001b[0m\n\u001b[0m",
      "\u001b[1;32m~\\.conda\\envs\\electricvehiclepriceprediction\\lib\\site-packages\\sklearn\\tree\\_classes.py\u001b[0m in \u001b[0;36mpredict\u001b[1;34m(self, X, check_input)\u001b[0m\n\u001b[0;32m    465\u001b[0m         \"\"\"\n\u001b[0;32m    466\u001b[0m         \u001b[0mcheck_is_fitted\u001b[0m\u001b[1;33m(\u001b[0m\u001b[0mself\u001b[0m\u001b[1;33m)\u001b[0m\u001b[1;33m\u001b[0m\u001b[1;33m\u001b[0m\u001b[0m\n\u001b[1;32m--> 467\u001b[1;33m         \u001b[0mX\u001b[0m \u001b[1;33m=\u001b[0m \u001b[0mself\u001b[0m\u001b[1;33m.\u001b[0m\u001b[0m_validate_X_predict\u001b[0m\u001b[1;33m(\u001b[0m\u001b[0mX\u001b[0m\u001b[1;33m,\u001b[0m \u001b[0mcheck_input\u001b[0m\u001b[1;33m)\u001b[0m\u001b[1;33m\u001b[0m\u001b[1;33m\u001b[0m\u001b[0m\n\u001b[0m\u001b[0;32m    468\u001b[0m         \u001b[0mproba\u001b[0m \u001b[1;33m=\u001b[0m \u001b[0mself\u001b[0m\u001b[1;33m.\u001b[0m\u001b[0mtree_\u001b[0m\u001b[1;33m.\u001b[0m\u001b[0mpredict\u001b[0m\u001b[1;33m(\u001b[0m\u001b[0mX\u001b[0m\u001b[1;33m)\u001b[0m\u001b[1;33m\u001b[0m\u001b[1;33m\u001b[0m\u001b[0m\n\u001b[0;32m    469\u001b[0m         \u001b[0mn_samples\u001b[0m \u001b[1;33m=\u001b[0m \u001b[0mX\u001b[0m\u001b[1;33m.\u001b[0m\u001b[0mshape\u001b[0m\u001b[1;33m[\u001b[0m\u001b[1;36m0\u001b[0m\u001b[1;33m]\u001b[0m\u001b[1;33m\u001b[0m\u001b[1;33m\u001b[0m\u001b[0m\n",
      "\u001b[1;32m~\\.conda\\envs\\electricvehiclepriceprediction\\lib\\site-packages\\sklearn\\tree\\_classes.py\u001b[0m in \u001b[0;36m_validate_X_predict\u001b[1;34m(self, X, check_input)\u001b[0m\n\u001b[0;32m    431\u001b[0m         \u001b[1;34m\"\"\"Validate the training data on predict (probabilities).\"\"\"\u001b[0m\u001b[1;33m\u001b[0m\u001b[1;33m\u001b[0m\u001b[0m\n\u001b[0;32m    432\u001b[0m         \u001b[1;32mif\u001b[0m \u001b[0mcheck_input\u001b[0m\u001b[1;33m:\u001b[0m\u001b[1;33m\u001b[0m\u001b[1;33m\u001b[0m\u001b[0m\n\u001b[1;32m--> 433\u001b[1;33m             \u001b[0mX\u001b[0m \u001b[1;33m=\u001b[0m \u001b[0mself\u001b[0m\u001b[1;33m.\u001b[0m\u001b[0m_validate_data\u001b[0m\u001b[1;33m(\u001b[0m\u001b[0mX\u001b[0m\u001b[1;33m,\u001b[0m \u001b[0mdtype\u001b[0m\u001b[1;33m=\u001b[0m\u001b[0mDTYPE\u001b[0m\u001b[1;33m,\u001b[0m \u001b[0maccept_sparse\u001b[0m\u001b[1;33m=\u001b[0m\u001b[1;34m\"csr\"\u001b[0m\u001b[1;33m,\u001b[0m \u001b[0mreset\u001b[0m\u001b[1;33m=\u001b[0m\u001b[1;32mFalse\u001b[0m\u001b[1;33m)\u001b[0m\u001b[1;33m\u001b[0m\u001b[1;33m\u001b[0m\u001b[0m\n\u001b[0m\u001b[0;32m    434\u001b[0m             if issparse(X) and (\n\u001b[0;32m    435\u001b[0m                 \u001b[0mX\u001b[0m\u001b[1;33m.\u001b[0m\u001b[0mindices\u001b[0m\u001b[1;33m.\u001b[0m\u001b[0mdtype\u001b[0m \u001b[1;33m!=\u001b[0m \u001b[0mnp\u001b[0m\u001b[1;33m.\u001b[0m\u001b[0mintc\u001b[0m \u001b[1;32mor\u001b[0m \u001b[0mX\u001b[0m\u001b[1;33m.\u001b[0m\u001b[0mindptr\u001b[0m\u001b[1;33m.\u001b[0m\u001b[0mdtype\u001b[0m \u001b[1;33m!=\u001b[0m \u001b[0mnp\u001b[0m\u001b[1;33m.\u001b[0m\u001b[0mintc\u001b[0m\u001b[1;33m\u001b[0m\u001b[1;33m\u001b[0m\u001b[0m\n",
      "\u001b[1;32m~\\.conda\\envs\\electricvehiclepriceprediction\\lib\\site-packages\\sklearn\\base.py\u001b[0m in \u001b[0;36m_validate_data\u001b[1;34m(self, X, y, reset, validate_separately, **check_params)\u001b[0m\n\u001b[0;32m    564\u001b[0m             \u001b[1;32mraise\u001b[0m \u001b[0mValueError\u001b[0m\u001b[1;33m(\u001b[0m\u001b[1;34m\"Validation should be done on X, y or both.\"\u001b[0m\u001b[1;33m)\u001b[0m\u001b[1;33m\u001b[0m\u001b[1;33m\u001b[0m\u001b[0m\n\u001b[0;32m    565\u001b[0m         \u001b[1;32melif\u001b[0m \u001b[1;32mnot\u001b[0m \u001b[0mno_val_X\u001b[0m \u001b[1;32mand\u001b[0m \u001b[0mno_val_y\u001b[0m\u001b[1;33m:\u001b[0m\u001b[1;33m\u001b[0m\u001b[1;33m\u001b[0m\u001b[0m\n\u001b[1;32m--> 566\u001b[1;33m             \u001b[0mX\u001b[0m \u001b[1;33m=\u001b[0m \u001b[0mcheck_array\u001b[0m\u001b[1;33m(\u001b[0m\u001b[0mX\u001b[0m\u001b[1;33m,\u001b[0m \u001b[1;33m**\u001b[0m\u001b[0mcheck_params\u001b[0m\u001b[1;33m)\u001b[0m\u001b[1;33m\u001b[0m\u001b[1;33m\u001b[0m\u001b[0m\n\u001b[0m\u001b[0;32m    567\u001b[0m             \u001b[0mout\u001b[0m \u001b[1;33m=\u001b[0m \u001b[0mX\u001b[0m\u001b[1;33m\u001b[0m\u001b[1;33m\u001b[0m\u001b[0m\n\u001b[0;32m    568\u001b[0m         \u001b[1;32melif\u001b[0m \u001b[0mno_val_X\u001b[0m \u001b[1;32mand\u001b[0m \u001b[1;32mnot\u001b[0m \u001b[0mno_val_y\u001b[0m\u001b[1;33m:\u001b[0m\u001b[1;33m\u001b[0m\u001b[1;33m\u001b[0m\u001b[0m\n",
      "\u001b[1;32m~\\.conda\\envs\\electricvehiclepriceprediction\\lib\\site-packages\\sklearn\\utils\\validation.py\u001b[0m in \u001b[0;36mcheck_array\u001b[1;34m(array, accept_sparse, accept_large_sparse, dtype, order, copy, force_all_finite, ensure_2d, allow_nd, ensure_min_samples, ensure_min_features, estimator)\u001b[0m\n\u001b[0;32m    744\u001b[0m                     \u001b[0marray\u001b[0m \u001b[1;33m=\u001b[0m \u001b[0marray\u001b[0m\u001b[1;33m.\u001b[0m\u001b[0mastype\u001b[0m\u001b[1;33m(\u001b[0m\u001b[0mdtype\u001b[0m\u001b[1;33m,\u001b[0m \u001b[0mcasting\u001b[0m\u001b[1;33m=\u001b[0m\u001b[1;34m\"unsafe\"\u001b[0m\u001b[1;33m,\u001b[0m \u001b[0mcopy\u001b[0m\u001b[1;33m=\u001b[0m\u001b[1;32mFalse\u001b[0m\u001b[1;33m)\u001b[0m\u001b[1;33m\u001b[0m\u001b[1;33m\u001b[0m\u001b[0m\n\u001b[0;32m    745\u001b[0m                 \u001b[1;32melse\u001b[0m\u001b[1;33m:\u001b[0m\u001b[1;33m\u001b[0m\u001b[1;33m\u001b[0m\u001b[0m\n\u001b[1;32m--> 746\u001b[1;33m                     \u001b[0marray\u001b[0m \u001b[1;33m=\u001b[0m \u001b[0mnp\u001b[0m\u001b[1;33m.\u001b[0m\u001b[0masarray\u001b[0m\u001b[1;33m(\u001b[0m\u001b[0marray\u001b[0m\u001b[1;33m,\u001b[0m \u001b[0morder\u001b[0m\u001b[1;33m=\u001b[0m\u001b[0morder\u001b[0m\u001b[1;33m,\u001b[0m \u001b[0mdtype\u001b[0m\u001b[1;33m=\u001b[0m\u001b[0mdtype\u001b[0m\u001b[1;33m)\u001b[0m\u001b[1;33m\u001b[0m\u001b[1;33m\u001b[0m\u001b[0m\n\u001b[0m\u001b[0;32m    747\u001b[0m             \u001b[1;32mexcept\u001b[0m \u001b[0mComplexWarning\u001b[0m \u001b[1;32mas\u001b[0m \u001b[0mcomplex_warning\u001b[0m\u001b[1;33m:\u001b[0m\u001b[1;33m\u001b[0m\u001b[1;33m\u001b[0m\u001b[0m\n\u001b[0;32m    748\u001b[0m                 raise ValueError(\n",
      "\u001b[1;32m~\\.conda\\envs\\electricvehiclepriceprediction\\lib\\site-packages\\pandas\\core\\generic.py\u001b[0m in \u001b[0;36m__array__\u001b[1;34m(self, dtype)\u001b[0m\n\u001b[0;32m   1991\u001b[0m \u001b[1;33m\u001b[0m\u001b[0m\n\u001b[0;32m   1992\u001b[0m     \u001b[1;32mdef\u001b[0m \u001b[0m__array__\u001b[0m\u001b[1;33m(\u001b[0m\u001b[0mself\u001b[0m\u001b[1;33m,\u001b[0m \u001b[0mdtype\u001b[0m\u001b[1;33m:\u001b[0m \u001b[0mNpDtype\u001b[0m \u001b[1;33m|\u001b[0m \u001b[1;32mNone\u001b[0m \u001b[1;33m=\u001b[0m \u001b[1;32mNone\u001b[0m\u001b[1;33m)\u001b[0m \u001b[1;33m->\u001b[0m \u001b[0mnp\u001b[0m\u001b[1;33m.\u001b[0m\u001b[0mndarray\u001b[0m\u001b[1;33m:\u001b[0m\u001b[1;33m\u001b[0m\u001b[1;33m\u001b[0m\u001b[0m\n\u001b[1;32m-> 1993\u001b[1;33m         \u001b[1;32mreturn\u001b[0m \u001b[0mnp\u001b[0m\u001b[1;33m.\u001b[0m\u001b[0masarray\u001b[0m\u001b[1;33m(\u001b[0m\u001b[0mself\u001b[0m\u001b[1;33m.\u001b[0m\u001b[0m_values\u001b[0m\u001b[1;33m,\u001b[0m \u001b[0mdtype\u001b[0m\u001b[1;33m=\u001b[0m\u001b[0mdtype\u001b[0m\u001b[1;33m)\u001b[0m\u001b[1;33m\u001b[0m\u001b[1;33m\u001b[0m\u001b[0m\n\u001b[0m\u001b[0;32m   1994\u001b[0m \u001b[1;33m\u001b[0m\u001b[0m\n\u001b[0;32m   1995\u001b[0m     def __array_wrap__(\n",
      "\u001b[1;31mValueError\u001b[0m: could not convert string to float: 'N/'"
     ]
    }
   ],
   "source": [
    "p = regressor.predict(df2)"
   ]
  },
  {
   "cell_type": "code",
   "execution_count": 161,
   "metadata": {},
   "outputs": [
    {
     "ename": "NameError",
     "evalue": "name 'p' is not defined",
     "output_type": "error",
     "traceback": [
      "\u001b[1;31m---------------------------------------------------------------------------\u001b[0m",
      "\u001b[1;31mNameError\u001b[0m                                 Traceback (most recent call last)",
      "\u001b[1;32m~\\AppData\\Local\\Temp\\ipykernel_16424\\626125819.py\u001b[0m in \u001b[0;36m<module>\u001b[1;34m\u001b[0m\n\u001b[1;32m----> 1\u001b[1;33m \u001b[0mp\u001b[0m\u001b[1;33m\u001b[0m\u001b[1;33m\u001b[0m\u001b[0m\n\u001b[0m",
      "\u001b[1;31mNameError\u001b[0m: name 'p' is not defined"
     ]
    }
   ],
   "source": [
    "p"
   ]
  },
  {
   "cell_type": "code",
   "execution_count": 162,
   "metadata": {},
   "outputs": [
    {
     "ename": "NameError",
     "evalue": "name 'p' is not defined",
     "output_type": "error",
     "traceback": [
      "\u001b[1;31m---------------------------------------------------------------------------\u001b[0m",
      "\u001b[1;31mNameError\u001b[0m                                 Traceback (most recent call last)",
      "\u001b[1;32m~\\AppData\\Local\\Temp\\ipykernel_16424\\694973109.py\u001b[0m in \u001b[0;36m<module>\u001b[1;34m\u001b[0m\n\u001b[0;32m      1\u001b[0m data = {\n\u001b[0;32m      2\u001b[0m    \u001b[1;34m'ID'\u001b[0m\u001b[1;33m:\u001b[0m \u001b[0mid\u001b[0m\u001b[1;33m,\u001b[0m\u001b[1;33m\u001b[0m\u001b[1;33m\u001b[0m\u001b[0m\n\u001b[1;32m----> 3\u001b[1;33m    \u001b[1;34m'Expected Price ($1k)'\u001b[0m\u001b[1;33m:\u001b[0m \u001b[0mp\u001b[0m\u001b[1;33m,\u001b[0m\u001b[1;33m\u001b[0m\u001b[1;33m\u001b[0m\u001b[0m\n\u001b[0m\u001b[0;32m      4\u001b[0m }\n",
      "\u001b[1;31mNameError\u001b[0m: name 'p' is not defined"
     ]
    }
   ],
   "source": [
    "data = {\n",
    "   'ID': id,\n",
    "   'Expected Price ($1k)': p,\n",
    "}"
   ]
  },
  {
   "cell_type": "code",
   "execution_count": 163,
   "metadata": {},
   "outputs": [
    {
     "ename": "NameError",
     "evalue": "name 'data' is not defined",
     "output_type": "error",
     "traceback": [
      "\u001b[1;31m---------------------------------------------------------------------------\u001b[0m",
      "\u001b[1;31mNameError\u001b[0m                                 Traceback (most recent call last)",
      "\u001b[1;32m~\\AppData\\Local\\Temp\\ipykernel_16424\\3918726029.py\u001b[0m in \u001b[0;36m<module>\u001b[1;34m\u001b[0m\n\u001b[1;32m----> 1\u001b[1;33m \u001b[0mdataframe\u001b[0m \u001b[1;33m=\u001b[0m \u001b[0mpd\u001b[0m\u001b[1;33m.\u001b[0m\u001b[0mDataFrame\u001b[0m\u001b[1;33m(\u001b[0m\u001b[0mdata\u001b[0m\u001b[1;33m)\u001b[0m\u001b[1;33m\u001b[0m\u001b[1;33m\u001b[0m\u001b[0m\n\u001b[0m",
      "\u001b[1;31mNameError\u001b[0m: name 'data' is not defined"
     ]
    }
   ],
   "source": [
    "dataframe = pd.DataFrame(data)"
   ]
  },
  {
   "cell_type": "code",
   "execution_count": 164,
   "metadata": {},
   "outputs": [
    {
     "ename": "NameError",
     "evalue": "name 'dataframe' is not defined",
     "output_type": "error",
     "traceback": [
      "\u001b[1;31m---------------------------------------------------------------------------\u001b[0m",
      "\u001b[1;31mNameError\u001b[0m                                 Traceback (most recent call last)",
      "\u001b[1;32m~\\AppData\\Local\\Temp\\ipykernel_16424\\2188539058.py\u001b[0m in \u001b[0;36m<module>\u001b[1;34m\u001b[0m\n\u001b[1;32m----> 1\u001b[1;33m \u001b[0mdataframe\u001b[0m\u001b[1;33m.\u001b[0m\u001b[0mhead\u001b[0m\u001b[1;33m(\u001b[0m\u001b[1;33m)\u001b[0m\u001b[1;33m\u001b[0m\u001b[1;33m\u001b[0m\u001b[0m\n\u001b[0m",
      "\u001b[1;31mNameError\u001b[0m: name 'dataframe' is not defined"
     ]
    }
   ],
   "source": [
    "dataframe.head()"
   ]
  },
  {
   "cell_type": "code",
   "execution_count": 165,
   "metadata": {},
   "outputs": [
    {
     "ename": "NameError",
     "evalue": "name 'dataframe' is not defined",
     "output_type": "error",
     "traceback": [
      "\u001b[1;31m---------------------------------------------------------------------------\u001b[0m",
      "\u001b[1;31mNameError\u001b[0m                                 Traceback (most recent call last)",
      "\u001b[1;32m~\\AppData\\Local\\Temp\\ipykernel_16424\\2330014065.py\u001b[0m in \u001b[0;36m<module>\u001b[1;34m\u001b[0m\n\u001b[1;32m----> 1\u001b[1;33m \u001b[0mdataframe\u001b[0m\u001b[1;33m.\u001b[0m\u001b[0mto_csv\u001b[0m\u001b[1;33m(\u001b[0m\u001b[1;34m'evresult.csv'\u001b[0m\u001b[1;33m,\u001b[0m \u001b[0mindex\u001b[0m\u001b[1;33m=\u001b[0m\u001b[1;32mFalse\u001b[0m\u001b[1;33m)\u001b[0m\u001b[1;33m\u001b[0m\u001b[1;33m\u001b[0m\u001b[0m\n\u001b[0m",
      "\u001b[1;31mNameError\u001b[0m: name 'dataframe' is not defined"
     ]
    }
   ],
   "source": [
    "dataframe.to_csv('evresult.csv', index=False)"
   ]
  },
  {
   "cell_type": "code",
   "execution_count": null,
   "metadata": {},
   "outputs": [],
   "source": []
  }
 ],
 "metadata": {
  "kernelspec": {
   "display_name": "Python 3 (ipykernel)",
   "language": "python",
   "name": "python3"
  },
  "language_info": {
   "codemirror_mode": {
    "name": "ipython",
    "version": 3
   },
   "file_extension": ".py",
   "mimetype": "text/x-python",
   "name": "python",
   "nbconvert_exporter": "python",
   "pygments_lexer": "ipython3",
   "version": "3.7.16"
  }
 },
 "nbformat": 4,
 "nbformat_minor": 4
}
